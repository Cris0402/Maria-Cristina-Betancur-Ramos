{
  "nbformat": 4,
  "nbformat_minor": 0,
  "metadata": {
    "colab": {
      "provenance": []
    },
    "language_info": {
      "codemirror_mode": {
        "name": "ipython",
        "version": 3
      },
      "file_extension": ".py",
      "mimetype": "text/x-python",
      "name": "python",
      "nbconvert_exporter": "python",
      "pygments_lexer": "ipython3",
      "version": "3.6.6"
    },
    "kernelspec": {
      "display_name": "Python 3",
      "language": "python",
      "name": "python3"
    }
  },
  "cells": [
    {
      "cell_type": "markdown",
      "metadata": {
        "id": "4CoLDDN0Scje"
      },
      "source": [
        "## Programa Ingenias+ Data Science"
      ]
    },
    {
      "cell_type": "markdown",
      "metadata": {
        "id": "Rkizi-vlScjg"
      },
      "source": [
        "## Trabajando con Pandas"
      ]
    },
    {
      "cell_type": "markdown",
      "metadata": {
        "id": "VRd6Ow_aScjg"
      },
      "source": [
        "1) Importa las librerias requeridas: `Pandas` y `NumPy`.  \n",
        "\n",
        "Una buena practica a la hora de escribir codigo es de comentar siempre que estoy haciendo (usando `#`) en la linea anterior. Por mas obvio que parezca lo que voy a hacer, puede ser que tenga que compartir el documento con otras personas y no sepan que quise hacer en cada linea. O que yo mismo lea el codigo tiempo despues y no recuerde porque lo hice."
      ]
    },
    {
      "cell_type": "code",
      "metadata": {
        "id": "Anvt8yoSScji"
      },
      "source": [
        "#importa numpy\n",
        "import numpy as np\n",
        "#importa pandas\n",
        "import pandas as pd"
      ],
      "execution_count": 15,
      "outputs": []
    },
    {
      "cell_type": "markdown",
      "metadata": {
        "id": "5YWvHd--Scjl"
      },
      "source": [
        "2) Lee el archivo csv `life_expectancy_data` usando `pandas`. Guardalo en una variable llamada `expvida`."
      ]
    },
    {
      "cell_type": "code",
      "metadata": {
        "id": "oM1b7mmxScjm"
      },
      "source": [
        "# Leo los datos en un DataFrame\n",
        "expvida = pd.read_csv('life_expectancy_data.csv', delimiter=',')\n"
      ],
      "execution_count": 2,
      "outputs": []
    },
    {
      "cell_type": "markdown",
      "metadata": {
        "id": "-a1OoVvIScjp"
      },
      "source": [
        "3) ¿Que tipo de estructura de datos contiene la variable `expvida`?"
      ]
    },
    {
      "cell_type": "code",
      "metadata": {
        "id": "7R6g46UGScjp"
      },
      "source": [
        "# Obtengo el tipo de estructura de datos\n",
        "type(expvida)"
      ],
      "execution_count": null,
      "outputs": []
    },
    {
      "cell_type": "markdown",
      "metadata": {
        "id": "EBwmuoKKScjv"
      },
      "source": [
        "4) ¿Cuantas filas y columnas tiene `expvida`?"
      ]
    },
    {
      "cell_type": "code",
      "metadata": {
        "id": "1oKt4xZmScjw",
        "outputId": "bc462922-fc7e-4541-cc8a-669d8ee3d262",
        "colab": {
          "base_uri": "https://localhost:8080/"
        }
      },
      "source": [
        "# Uso .shape para obtener cantidad de filas y columnas\n",
        "expvida.shape"
      ],
      "execution_count": 17,
      "outputs": [
        {
          "output_type": "execute_result",
          "data": {
            "text/plain": [
              "(2938, 22)"
            ]
          },
          "metadata": {},
          "execution_count": 17
        }
      ]
    },
    {
      "cell_type": "markdown",
      "metadata": {
        "id": "O-ICrkf6Scj0"
      },
      "source": [
        "**Numero de filas**:"
      ]
    },
    {
      "cell_type": "markdown",
      "metadata": {
        "id": "zXyS8xzFScj0"
      },
      "source": [
        "**Numero de columnas**:"
      ]
    },
    {
      "cell_type": "markdown",
      "metadata": {
        "id": "V3cNAjIIScj1"
      },
      "source": [
        "5) ¿Cual es el nombre de las columnas contenidas en `expvida`?"
      ]
    },
    {
      "cell_type": "code",
      "metadata": {
        "id": "Cr61t2ALScj2",
        "colab": {
          "base_uri": "https://localhost:8080/"
        },
        "outputId": "242391ce-25fc-494a-d5f1-c61104a46e1e"
      },
      "source": [
        "# Obtengo el nombre de las columnas\n",
        "expvida.columns"
      ],
      "execution_count": 18,
      "outputs": [
        {
          "output_type": "execute_result",
          "data": {
            "text/plain": [
              "Index(['Country', 'Year', 'Status', 'life_expectancy', 'Adult Mortality',\n",
              "       'infant deaths', 'Alcohol', 'percentage expenditure', 'Hepatitis B',\n",
              "       'measles', 'bmi', 'under-five deaths ', 'Polio', 'Total expenditure',\n",
              "       'Diphtheria ', ' HIV/AIDS', 'GDP', 'Population',\n",
              "       ' thinness  1-19 years', ' thinness 5-9 years',\n",
              "       'Income composition of resources', 'Schooling'],\n",
              "      dtype='object')"
            ]
          },
          "metadata": {},
          "execution_count": 18
        }
      ]
    },
    {
      "cell_type": "markdown",
      "metadata": {
        "id": "xbXCaw0mScj5"
      },
      "source": [
        "6) Inspecciona las primeras 10 filas de `expvida`"
      ]
    },
    {
      "cell_type": "code",
      "metadata": {
        "id": "WSUs6-wmScj6"
      },
      "source": [
        "# Inspecciono las primeras filas\n",
        "expvida.head(10)"
      ],
      "execution_count": null,
      "outputs": []
    },
    {
      "cell_type": "markdown",
      "metadata": {
        "id": "99b7sMhZScj_"
      },
      "source": [
        "7) Y ahora las 10 ultimas."
      ]
    },
    {
      "cell_type": "code",
      "metadata": {
        "id": "yaMMoHc7Scj_"
      },
      "source": [
        "# Inspecciono las ultimas filas\n",
        "expvida.tail(10)"
      ],
      "execution_count": null,
      "outputs": []
    },
    {
      "cell_type": "markdown",
      "metadata": {
        "id": "thLRW3GjSckC"
      },
      "source": [
        "8) ¿Que tipos de datos contiene cada una de las columnas de `expvida`?"
      ]
    },
    {
      "cell_type": "code",
      "metadata": {
        "id": "AfAgFAJdSckD"
      },
      "source": [
        "# Tipo de datos en cada columna\n",
        "expvida.dtypes"
      ],
      "execution_count": null,
      "outputs": []
    },
    {
      "cell_type": "markdown",
      "metadata": {
        "id": "7Nsyhb7LSckG"
      },
      "source": [
        "9) ¿Hay valores faltantes en alguna de las columnas de `expvida`?"
      ]
    },
    {
      "cell_type": "code",
      "metadata": {
        "id": "DP_IgUWzSckI"
      },
      "source": [
        "# Obtengo la cantidad de datos faltantes en cada columna\n",
        "expvida.isnull().sum()"
      ],
      "execution_count": null,
      "outputs": []
    },
    {
      "cell_type": "markdown",
      "metadata": {
        "id": "Q7-bL4tlSckL"
      },
      "source": [
        "10) Selecciona el maximo de datos faltantes. Calcula que porcentaje de los datos representan los datos faltantes."
      ]
    },
    {
      "cell_type": "code",
      "metadata": {
        "id": "gicdHYh0SckM"
      },
      "source": [
        "# Obtengo el maximo valor de datos faltantes y lo guardo en la variable masnan\n"
      ],
      "execution_count": null,
      "outputs": []
    },
    {
      "cell_type": "code",
      "metadata": {
        "id": "Y58Hh90pSckP"
      },
      "source": [
        "masnan = expvida.isnull().sum().max()"
      ],
      "execution_count": null,
      "outputs": []
    },
    {
      "cell_type": "code",
      "metadata": {
        "id": "RuRgzIFBSckT"
      },
      "source": [
        "# Obtengo la cantidad de filas total y divido el maximo valor de datos faltantes por este numero\n",
        "# y lo multiplico por 100\n",
        "maximo = (masnan/ len(expvida)) *100\n"
      ],
      "execution_count": null,
      "outputs": []
    },
    {
      "cell_type": "code",
      "metadata": {
        "id": "1NIY9qQBSckX",
        "outputId": "4bd41921-7ef8-4c85-b309-89ce80524695",
        "colab": {
          "base_uri": "https://localhost:8080/",
          "height": 35
        }
      },
      "source": [
        "# Imprimo el maximo porcentaje de datos faltantes. Uso f-strings.\n",
        "f\"El maximo porcentaje de datos faltantes corresponde a la variable Population y es {round(maximo,2)}%\""
      ],
      "execution_count": null,
      "outputs": [
        {
          "output_type": "execute_result",
          "data": {
            "text/plain": [
              "'El maximo porcentaje de datos faltantes corresponde a la variable Population y es 22.19%'"
            ],
            "application/vnd.google.colaboratory.intrinsic+json": {
              "type": "string"
            }
          },
          "metadata": {},
          "execution_count": 38
        }
      ]
    },
    {
      "cell_type": "markdown",
      "metadata": {
        "id": "r0ukORx9Sckg"
      },
      "source": [
        "- str.format()\n",
        "- Template Class\n",
        "- f-strings"
      ]
    },
    {
      "cell_type": "markdown",
      "metadata": {
        "id": "hUXqdma_Sckj"
      },
      "source": [
        "#### Ahora vamos a realizar algunos calculos y manipulaciones sobre las columnas."
      ]
    },
    {
      "cell_type": "markdown",
      "metadata": {
        "id": "eBzg8GYGSckk"
      },
      "source": [
        "Una función útil para este fin es: `.rename()`. Y podemos utilizarla de la siguiente manera: Si `df` es mi DataFrame y quiero renombrar la columna `columna` como `columna1`, y la columna `columna2` como `columna3`, utilizo la siguiente sintaxis:\n",
        "  \n",
        "`df.rename(columns={\"columna\": \"columna1\", \"columna2\": \"columna3\"}, inplace=True)`"
      ]
    },
    {
      "cell_type": "markdown",
      "metadata": {
        "id": "EYINiSHdSckl"
      },
      "source": [
        "11) Renombra la columna 'Life expectancy ' como 'life_expectancy', ' BMI ' como 'bmi' y ''Measles ' como 'measles'. No olvides de usar `inplace` para modificar el DataFrame original. Luego chequea que el cambio se haya hecho correctamente."
      ]
    },
    {
      "cell_type": "code",
      "metadata": {
        "id": "TL4b2ueXSckm"
      },
      "source": [
        "# Renombro columnas del DataFrame\n",
        "\n",
        "expvida.rename(columns={\"Life expectancy \": \"life_expectancy\", \" BMI \": \"bmi\",\"Measles \": \"measles\"}, inplace=True)"
      ],
      "execution_count": 12,
      "outputs": []
    },
    {
      "cell_type": "code",
      "metadata": {
        "id": "r1RVoERMSckp"
      },
      "source": [
        "# Chequeo que se hayan reemplazado correctamente\n",
        "expvida.columns"
      ],
      "execution_count": null,
      "outputs": []
    },
    {
      "cell_type": "markdown",
      "metadata": {
        "id": "cNXpOsdiScks"
      },
      "source": [
        "12) ¿Cual es el promedio de expectativa de vida (Life expectancy) en general?"
      ]
    },
    {
      "cell_type": "code",
      "metadata": {
        "id": "OYv3yiXmSckt"
      },
      "source": [
        "# Obtengo el promedio de la columna\n",
        "\n"
      ],
      "execution_count": null,
      "outputs": []
    },
    {
      "cell_type": "code",
      "source": [
        "print(expvida[\"life_expectancy\"].mean())"
      ],
      "metadata": {
        "colab": {
          "base_uri": "https://localhost:8080/"
        },
        "id": "Leox1jyo4-g_",
        "outputId": "0698a82c-9e35-47c3-96cc-53021d37aa44"
      },
      "execution_count": 5,
      "outputs": [
        {
          "output_type": "stream",
          "name": "stdout",
          "text": [
            "69.22493169398908\n"
          ]
        }
      ]
    },
    {
      "cell_type": "markdown",
      "metadata": {
        "id": "A-bzQhFqSckw"
      },
      "source": [
        "13) ¿Cual es el promedio de expectativa de vida (Life expectancy) por país?"
      ]
    },
    {
      "cell_type": "code",
      "metadata": {
        "id": "eWN_AJPMSckx"
      },
      "source": [
        "# Obtengo el promedio por pais\n",
        "expvida.groupby(\"Country\").mean(numeric_only=True)\n",
        "\n"
      ],
      "execution_count": null,
      "outputs": []
    },
    {
      "cell_type": "markdown",
      "metadata": {
        "id": "YIopZIPrSck0"
      },
      "source": [
        "14) ¿Cual es la expectativa de vida mas alta y mas baja? Usa la funcion de pandas y la funcion de NumPy y compara el resultado. ¿Que paises tienen esas expectativas de vida?"
      ]
    },
    {
      "cell_type": "code",
      "metadata": {
        "id": "gU8js5J8Sck0",
        "colab": {
          "base_uri": "https://localhost:8080/"
        },
        "outputId": "ca2f0cea-1085-4874-be88-918fd2427360"
      },
      "source": [
        "# Maxima expectativa de vida usando numpy\n",
        "np.max(expvida[\"life_expectancy\"])"
      ],
      "execution_count": 7,
      "outputs": [
        {
          "output_type": "execute_result",
          "data": {
            "text/plain": [
              "89.0"
            ]
          },
          "metadata": {},
          "execution_count": 7
        }
      ]
    },
    {
      "cell_type": "code",
      "metadata": {
        "id": "_JyNdRuESck2",
        "colab": {
          "base_uri": "https://localhost:8080/"
        },
        "outputId": "d5bb3101-1acd-4770-9733-1a80bea13e15"
      },
      "source": [
        "# Maxima expectativa de vida usando pandas\n",
        "expvida[\"life_expectancy\"].max()"
      ],
      "execution_count": null,
      "outputs": [
        {
          "output_type": "execute_result",
          "data": {
            "text/plain": [
              "89.0"
            ]
          },
          "metadata": {},
          "execution_count": 51
        }
      ]
    },
    {
      "cell_type": "code",
      "metadata": {
        "id": "pTCZ9VJXSck4",
        "colab": {
          "base_uri": "https://localhost:8080/"
        },
        "outputId": "ce425641-1af1-4e72-aaac-309180bfdc21"
      },
      "source": [
        "# Minima expectativa de vida usando numpy\n",
        "np.min(expvida[\"life_expectancy\"])"
      ],
      "execution_count": null,
      "outputs": [
        {
          "output_type": "execute_result",
          "data": {
            "text/plain": [
              "36.3"
            ]
          },
          "metadata": {},
          "execution_count": 54
        }
      ]
    },
    {
      "cell_type": "code",
      "metadata": {
        "id": "BbJ9nW_LSck6",
        "colab": {
          "base_uri": "https://localhost:8080/"
        },
        "outputId": "7b0604d2-6325-4648-b154-686b7927931b"
      },
      "source": [
        "# Minima expectativa de vida usando pandas\n",
        "\n",
        "expvida[\"life_expectancy\"].min()"
      ],
      "execution_count": 123,
      "outputs": [
        {
          "output_type": "execute_result",
          "data": {
            "text/plain": [
              "36.3"
            ]
          },
          "metadata": {},
          "execution_count": 123
        }
      ]
    },
    {
      "cell_type": "code",
      "metadata": {
        "id": "R83PS8f8Sck8",
        "colab": {
          "base_uri": "https://localhost:8080/"
        },
        "outputId": "ceb9be88-6605-45fc-f21e-2b2512b95158"
      },
      "source": [
        "# Muestro los resultados maximos\n",
        "print(np.max(expvida[\"life_expectancy\"]))\n",
        "print(expvida[\"life_expectancy\"].max())"
      ],
      "execution_count": null,
      "outputs": [
        {
          "output_type": "stream",
          "name": "stdout",
          "text": [
            "89.0\n",
            "89.0\n"
          ]
        }
      ]
    },
    {
      "cell_type": "code",
      "metadata": {
        "id": "jUZlYu3BSck_",
        "colab": {
          "base_uri": "https://localhost:8080/"
        },
        "outputId": "3ae2cf0f-dbb2-4339-860a-eef8d0b740d0"
      },
      "source": [
        "# Muestro los resultados minimos\n",
        "print(np.min(expvida[\"life_expectancy\"]))\n",
        "print(expvida[\"life_expectancy\"].min())"
      ],
      "execution_count": null,
      "outputs": [
        {
          "output_type": "stream",
          "name": "stdout",
          "text": [
            "36.3\n",
            "36.3\n"
          ]
        }
      ]
    },
    {
      "cell_type": "code",
      "metadata": {
        "id": "et_RZ44GSclB"
      },
      "source": [
        "# Filtro las columnas para mostrar solo las filas que tengan valor\n",
        "# igual al maximo\n",
        "\n",
        "print(expvida[expvida[\"life_expectancy\"]==89.0])\n"
      ],
      "execution_count": null,
      "outputs": []
    },
    {
      "cell_type": "code",
      "metadata": {
        "id": "IQnm1-44SclE"
      },
      "source": [
        "# Filtro las columnas para mostrar solo las filas que tengan valor\n",
        "# igual al minimo\n",
        "print(expvida[expvida[\"life_expectancy\"]==36.3])"
      ],
      "execution_count": null,
      "outputs": []
    },
    {
      "cell_type": "markdown",
      "metadata": {
        "id": "mk_q0UUdSclq"
      },
      "source": [
        "15) ¿Cuantas categorias encontramos en la columna \"Status\"? _**Pista**_: Lee acerca de la función [unique()](http://pandas.pydata.org/pandas-docs/stable/reference/api/pandas.Series.unique.html?highlight=unique#pandas.Series.unique)"
      ]
    },
    {
      "cell_type": "code",
      "metadata": {
        "id": "HA2tDgWVSclq",
        "colab": {
          "base_uri": "https://localhost:8080/"
        },
        "outputId": "1bb45d39-5625-4ec3-8f5b-1f2f7951bfa2"
      },
      "source": [
        "# Obtengo los valores unicos de la columna status\n",
        "print(expvida[\"Status\"].unique())"
      ],
      "execution_count": null,
      "outputs": [
        {
          "output_type": "stream",
          "name": "stdout",
          "text": [
            "['Developing' 'Developed']\n"
          ]
        }
      ]
    },
    {
      "cell_type": "markdown",
      "source": [],
      "metadata": {
        "id": "WiIxLWFOIVWS"
      }
    },
    {
      "cell_type": "markdown",
      "metadata": {
        "id": "ps0WfRElSclu"
      },
      "source": [
        "16) ¿Cuantos paises se ubican en cada una de esas categorias de \"Status\"? _**Pista**_: Lee acerca de la función [value_counts()](http://pandas.pydata.org/pandas-docs/stable/reference/api/pandas.Series.value_counts.html)"
      ]
    },
    {
      "cell_type": "code",
      "metadata": {
        "id": "a8zkd7TTSclw",
        "colab": {
          "base_uri": "https://localhost:8080/"
        },
        "outputId": "f39e871e-efa3-4b79-cccb-969ea8583102"
      },
      "source": [
        "# Cuento cuantos valores hay de cada categoria\n",
        "print(expvida.groupby([\"Status\"]).value_counts())\n",
        "\n"
      ],
      "execution_count": 185,
      "outputs": [
        {
          "output_type": "stream",
          "name": "stdout",
          "text": [
            "Status      Country    Year  life_expectancy  Adult Mortality  infant deaths  Alcohol  percentage expenditure  Hepatitis B  measles  bmi   under-five deaths   Polio  Total expenditure  Diphtheria    HIV/AIDS  GDP           Population   thinness  1-19 years   thinness 5-9 years  Income composition of resources  Schooling\n",
            "Developed   Australia  2001  79.9             75.0             1              9.53     3064.301144             94.0         141      59.0  2                   91.0   8.18               92.0         0.1        19517.841680  19413.0     0.7                    0.7                  0.899                            20.5         1\n",
            "                       2002  79.9             73.0             1              9.84     46.387182               95.0         32       59.6  2                   92.0   8.39               92.0         0.1        281.817630    196514.0    0.7                    0.7                  0.902                            20.1         1\n",
            "            Romania    2011  74.3             139.0            2              9.10     10.325889               96.0         4189     57.7  2                   89.0   5.53               89.0         0.1        92.277825     2147528.0   2.9                    3.1                  0.798                            15.7         1\n",
            "            Spain      2006  88.0             73.0             2              11.86    4460.390006             97.0         362      61.1  2                   98.0   8.23               98.0         0.1        28482.694800  44397319.0  0.6                    0.5                  0.844                            15.9         1\n",
            "                       2005  81.0             77.0             2              11.92    405.447598              96.0         22       6.5   2                   96.0   8.12               96.0         0.1        2651.717450   43653155.0  0.6                    0.5                  0.837                            15.8         1\n",
            "                                                                                                                                                                                                                                                                                                                                    ..\n",
            "Developing  Colombia   2001  71.5             165.0            17             4.43     404.420586              8.0          3        47.5  21                  83.0   5.96               8.0          0.1        2395.856551   498899.0    2.5                    2.3                  0.653                            11.4         1\n",
            "                       2000  71.4             167.0            18             4.66     477.134181              78.0         1        46.7  21                  82.0   5.91               79.0         0.1        2472.197831   443958.0    2.6                    2.3                  0.650                            11.3         1\n",
            "            China      2014  75.8             86.0             171            5.78     109.874390              99.0         52628    31.9  198                 99.0   5.55               99.0         0.1        7683.523800   136427.0    3.7                    3.0                  0.723                            13.1         1\n",
            "                       2013  75.6             88.0             185            5.79     9.955532                99.0         26883    3.9   216                 99.0   5.39               99.0         0.1        777.775940    135738.0    3.8                    3.2                  0.713                            12.7         1\n",
            "            Zimbabwe   2014  59.2             371.0            23             6.50     10.822595               91.0         0        31.3  34                  92.0   6.44               91.0         6.3        127.474620    15411675.0  5.9                    5.7                  0.498                            10.3         1\n",
            "Name: count, Length: 1649, dtype: int64\n"
          ]
        }
      ]
    },
    {
      "cell_type": "markdown",
      "metadata": {
        "id": "IFvTsLnQSclz"
      },
      "source": [
        "18) ¿Cuantos paises presentaron algun caso de Sarampion (**Measles**) en el 2015? **_Pista_**: Lee acerca de la función [.count()](http://pandas.pydata.org/pandas-docs/stable/reference/api/pandas.DataFrame.count.html?highlight=count#pandas.DataFrame.count)"
      ]
    },
    {
      "cell_type": "code",
      "metadata": {
        "id": "qOyyukGmSclz",
        "colab": {
          "base_uri": "https://localhost:8080/"
        },
        "outputId": "3f5d0b8f-5d5c-4a6d-8ed3-f0bd39631f06"
      },
      "source": [
        "# Cuento cuantas filas tienen valores distintos de cero\n",
        "print(expvida.Country[(expvida[\"Year\"]==2015) & (expvida[\"measles\"]!=0)].count())\n",
        "\n"
      ],
      "execution_count": 173,
      "outputs": [
        {
          "output_type": "stream",
          "name": "stdout",
          "text": [
            "121\n"
          ]
        }
      ]
    },
    {
      "cell_type": "code",
      "metadata": {
        "id": "aFaOi_mmScl2"
      },
      "source": [],
      "execution_count": null,
      "outputs": []
    }
  ]
}