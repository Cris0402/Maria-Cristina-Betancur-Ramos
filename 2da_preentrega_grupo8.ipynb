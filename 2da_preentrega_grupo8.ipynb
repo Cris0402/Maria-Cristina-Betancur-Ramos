{
  "cells": [
    {
      "cell_type": "markdown",
      "metadata": {
        "id": "view-in-github",
        "colab_type": "text"
      },
      "source": [
        "<a href=\"https://colab.research.google.com/github/Cris0402/Maria-Cristina-Betancur-Ramos/blob/main/2da_preentrega_grupo8.ipynb\" target=\"_parent\"><img src=\"https://colab.research.google.com/assets/colab-badge.svg\" alt=\"Open In Colab\"/></a>"
      ]
    },
    {
      "cell_type": "markdown",
      "id": "8315600e",
      "metadata": {
        "id": "8315600e"
      },
      "source": [
        "# Análisis exploratorio - Encuesta de hogares 2019"
      ]
    },
    {
      "cell_type": "markdown",
      "id": "7dcab463",
      "metadata": {
        "id": "7dcab463"
      },
      "source": [
        "# Objetivo"
      ]
    },
    {
      "cell_type": "markdown",
      "id": "406b582a",
      "metadata": {
        "id": "406b582a"
      },
      "source": [
        "## Librerías"
      ]
    },
    {
      "cell_type": "code",
      "execution_count": 1,
      "id": "02497e0e",
      "metadata": {
        "id": "02497e0e"
      },
      "outputs": [],
      "source": [
        "#Importando librerias\n",
        "import numpy as np\n",
        "import pandas as pd\n",
        "import matplotlib.pyplot as plt\n",
        "import seaborn as sns\n",
        "from scipy import stats\n",
        "import sklearn\n",
        "from sklearn.preprocessing import MinMaxScaler\n",
        "from sklearn.preprocessing import Normalizer"
      ]
    },
    {
      "cell_type": "markdown",
      "id": "7b170a38",
      "metadata": {
        "id": "7b170a38"
      },
      "source": [
        "## Data set"
      ]
    },
    {
      "cell_type": "code",
      "execution_count": 2,
      "id": "75a8647c",
      "metadata": {
        "id": "75a8647c"
      },
      "outputs": [],
      "source": [
        "# Leo los datos en un DataFrame\n",
        "datos = pd.read_csv(\"encuesta-anual-hogares-2019.csv\", delimiter=',')"
      ]
    },
    {
      "cell_type": "code",
      "execution_count": 3,
      "id": "50ba9903",
      "metadata": {
        "colab": {
          "base_uri": "https://localhost:8080/",
          "height": 429
        },
        "id": "50ba9903",
        "outputId": "1b723872-3250-479b-da6e-5ad2b2dabc5a"
      },
      "outputs": [
        {
          "output_type": "execute_result",
          "data": {
            "text/plain": [
              "   id  nhogar  miembro  comuna             dominio  edad   sexo  \\\n",
              "0   1       1        1       5  Resto de la Ciudad    18  Mujer   \n",
              "1   1       1        2       5  Resto de la Ciudad    18  Mujer   \n",
              "2   2       1        1       2  Resto de la Ciudad    18  Varon   \n",
              "3   2       1        2       2  Resto de la Ciudad    50  Mujer   \n",
              "4   2       1        3       2  Resto de la Ciudad    17  Varon   \n",
              "\n",
              "        parentesco_jefe situacion_conyugal          num_miembro_padre  ...  \\\n",
              "0                  Jefe          Soltero/a  Padre no vive en el hogar  ...   \n",
              "1      Otro no familiar          Soltero/a  Padre no vive en el hogar  ...   \n",
              "2                  Jefe          Soltero/a  Padre no vive en el hogar  ...   \n",
              "3  Padre/Madre/Suegro/a            Viudo/a             No corresponde  ...   \n",
              "4         Otro familiar          Soltero/a  Padre no vive en el hogar  ...   \n",
              "\n",
              "  ingreso_per_capita_familiar        estado_educativo   sector_educativo  \\\n",
              "0                        9000                  Asiste    Estatal/publico   \n",
              "1                        9000                  Asiste    Estatal/publico   \n",
              "2                       33333                  Asiste  Privado religioso   \n",
              "3                       33333  No asiste pero asistió     No corresponde   \n",
              "4                       33333                  Asiste  Privado religioso   \n",
              "\n",
              "             nivel_actual        nivel_max_educativo años_escolaridad  \\\n",
              "0           Universitario  Otras escuelas especiales               12   \n",
              "1           Universitario  Otras escuelas especiales               12   \n",
              "2           Universitario  Otras escuelas especiales               12   \n",
              "3          No corresponde     Secundario/medio comun               17   \n",
              "4  Secundario/medio comun          EGB (1° a 9° año)               10   \n",
              "\n",
              "   lugar_nacimiento                                   afiliacion_salud  \\\n",
              "0   PBA excepto GBA                                   Solo obra social   \n",
              "1    Otra provincia  Solo plan de medicina prepaga por contratación...   \n",
              "2              CABA  Solo plan de medicina prepaga por contratación...   \n",
              "3              CABA                       Solo prepaga o mutual via OS   \n",
              "4              CABA  Solo plan de medicina prepaga por contratación...   \n",
              "\n",
              "   hijos_nacidos_vivos cantidad_hijos_nac_vivos  \n",
              "0                   No           No corresponde  \n",
              "1                   No           No corresponde  \n",
              "2                  NaN           No corresponde  \n",
              "3                   Si                        2  \n",
              "4                  NaN           No corresponde  \n",
              "\n",
              "[5 rows x 31 columns]"
            ],
            "text/html": [
              "\n",
              "  <div id=\"df-161ab004-a874-45e0-a710-67cff96d247f\" class=\"colab-df-container\">\n",
              "    <div>\n",
              "<style scoped>\n",
              "    .dataframe tbody tr th:only-of-type {\n",
              "        vertical-align: middle;\n",
              "    }\n",
              "\n",
              "    .dataframe tbody tr th {\n",
              "        vertical-align: top;\n",
              "    }\n",
              "\n",
              "    .dataframe thead th {\n",
              "        text-align: right;\n",
              "    }\n",
              "</style>\n",
              "<table border=\"1\" class=\"dataframe\">\n",
              "  <thead>\n",
              "    <tr style=\"text-align: right;\">\n",
              "      <th></th>\n",
              "      <th>id</th>\n",
              "      <th>nhogar</th>\n",
              "      <th>miembro</th>\n",
              "      <th>comuna</th>\n",
              "      <th>dominio</th>\n",
              "      <th>edad</th>\n",
              "      <th>sexo</th>\n",
              "      <th>parentesco_jefe</th>\n",
              "      <th>situacion_conyugal</th>\n",
              "      <th>num_miembro_padre</th>\n",
              "      <th>...</th>\n",
              "      <th>ingreso_per_capita_familiar</th>\n",
              "      <th>estado_educativo</th>\n",
              "      <th>sector_educativo</th>\n",
              "      <th>nivel_actual</th>\n",
              "      <th>nivel_max_educativo</th>\n",
              "      <th>años_escolaridad</th>\n",
              "      <th>lugar_nacimiento</th>\n",
              "      <th>afiliacion_salud</th>\n",
              "      <th>hijos_nacidos_vivos</th>\n",
              "      <th>cantidad_hijos_nac_vivos</th>\n",
              "    </tr>\n",
              "  </thead>\n",
              "  <tbody>\n",
              "    <tr>\n",
              "      <th>0</th>\n",
              "      <td>1</td>\n",
              "      <td>1</td>\n",
              "      <td>1</td>\n",
              "      <td>5</td>\n",
              "      <td>Resto de la Ciudad</td>\n",
              "      <td>18</td>\n",
              "      <td>Mujer</td>\n",
              "      <td>Jefe</td>\n",
              "      <td>Soltero/a</td>\n",
              "      <td>Padre no vive en el hogar</td>\n",
              "      <td>...</td>\n",
              "      <td>9000</td>\n",
              "      <td>Asiste</td>\n",
              "      <td>Estatal/publico</td>\n",
              "      <td>Universitario</td>\n",
              "      <td>Otras escuelas especiales</td>\n",
              "      <td>12</td>\n",
              "      <td>PBA excepto GBA</td>\n",
              "      <td>Solo obra social</td>\n",
              "      <td>No</td>\n",
              "      <td>No corresponde</td>\n",
              "    </tr>\n",
              "    <tr>\n",
              "      <th>1</th>\n",
              "      <td>1</td>\n",
              "      <td>1</td>\n",
              "      <td>2</td>\n",
              "      <td>5</td>\n",
              "      <td>Resto de la Ciudad</td>\n",
              "      <td>18</td>\n",
              "      <td>Mujer</td>\n",
              "      <td>Otro no familiar</td>\n",
              "      <td>Soltero/a</td>\n",
              "      <td>Padre no vive en el hogar</td>\n",
              "      <td>...</td>\n",
              "      <td>9000</td>\n",
              "      <td>Asiste</td>\n",
              "      <td>Estatal/publico</td>\n",
              "      <td>Universitario</td>\n",
              "      <td>Otras escuelas especiales</td>\n",
              "      <td>12</td>\n",
              "      <td>Otra provincia</td>\n",
              "      <td>Solo plan de medicina prepaga por contratación...</td>\n",
              "      <td>No</td>\n",
              "      <td>No corresponde</td>\n",
              "    </tr>\n",
              "    <tr>\n",
              "      <th>2</th>\n",
              "      <td>2</td>\n",
              "      <td>1</td>\n",
              "      <td>1</td>\n",
              "      <td>2</td>\n",
              "      <td>Resto de la Ciudad</td>\n",
              "      <td>18</td>\n",
              "      <td>Varon</td>\n",
              "      <td>Jefe</td>\n",
              "      <td>Soltero/a</td>\n",
              "      <td>Padre no vive en el hogar</td>\n",
              "      <td>...</td>\n",
              "      <td>33333</td>\n",
              "      <td>Asiste</td>\n",
              "      <td>Privado religioso</td>\n",
              "      <td>Universitario</td>\n",
              "      <td>Otras escuelas especiales</td>\n",
              "      <td>12</td>\n",
              "      <td>CABA</td>\n",
              "      <td>Solo plan de medicina prepaga por contratación...</td>\n",
              "      <td>NaN</td>\n",
              "      <td>No corresponde</td>\n",
              "    </tr>\n",
              "    <tr>\n",
              "      <th>3</th>\n",
              "      <td>2</td>\n",
              "      <td>1</td>\n",
              "      <td>2</td>\n",
              "      <td>2</td>\n",
              "      <td>Resto de la Ciudad</td>\n",
              "      <td>50</td>\n",
              "      <td>Mujer</td>\n",
              "      <td>Padre/Madre/Suegro/a</td>\n",
              "      <td>Viudo/a</td>\n",
              "      <td>No corresponde</td>\n",
              "      <td>...</td>\n",
              "      <td>33333</td>\n",
              "      <td>No asiste pero asistió</td>\n",
              "      <td>No corresponde</td>\n",
              "      <td>No corresponde</td>\n",
              "      <td>Secundario/medio comun</td>\n",
              "      <td>17</td>\n",
              "      <td>CABA</td>\n",
              "      <td>Solo prepaga o mutual via OS</td>\n",
              "      <td>Si</td>\n",
              "      <td>2</td>\n",
              "    </tr>\n",
              "    <tr>\n",
              "      <th>4</th>\n",
              "      <td>2</td>\n",
              "      <td>1</td>\n",
              "      <td>3</td>\n",
              "      <td>2</td>\n",
              "      <td>Resto de la Ciudad</td>\n",
              "      <td>17</td>\n",
              "      <td>Varon</td>\n",
              "      <td>Otro familiar</td>\n",
              "      <td>Soltero/a</td>\n",
              "      <td>Padre no vive en el hogar</td>\n",
              "      <td>...</td>\n",
              "      <td>33333</td>\n",
              "      <td>Asiste</td>\n",
              "      <td>Privado religioso</td>\n",
              "      <td>Secundario/medio comun</td>\n",
              "      <td>EGB (1° a 9° año)</td>\n",
              "      <td>10</td>\n",
              "      <td>CABA</td>\n",
              "      <td>Solo plan de medicina prepaga por contratación...</td>\n",
              "      <td>NaN</td>\n",
              "      <td>No corresponde</td>\n",
              "    </tr>\n",
              "  </tbody>\n",
              "</table>\n",
              "<p>5 rows × 31 columns</p>\n",
              "</div>\n",
              "    <div class=\"colab-df-buttons\">\n",
              "\n",
              "  <div class=\"colab-df-container\">\n",
              "    <button class=\"colab-df-convert\" onclick=\"convertToInteractive('df-161ab004-a874-45e0-a710-67cff96d247f')\"\n",
              "            title=\"Convert this dataframe to an interactive table.\"\n",
              "            style=\"display:none;\">\n",
              "\n",
              "  <svg xmlns=\"http://www.w3.org/2000/svg\" height=\"24px\" viewBox=\"0 -960 960 960\">\n",
              "    <path d=\"M120-120v-720h720v720H120Zm60-500h600v-160H180v160Zm220 220h160v-160H400v160Zm0 220h160v-160H400v160ZM180-400h160v-160H180v160Zm440 0h160v-160H620v160ZM180-180h160v-160H180v160Zm440 0h160v-160H620v160Z\"/>\n",
              "  </svg>\n",
              "    </button>\n",
              "\n",
              "  <style>\n",
              "    .colab-df-container {\n",
              "      display:flex;\n",
              "      gap: 12px;\n",
              "    }\n",
              "\n",
              "    .colab-df-convert {\n",
              "      background-color: #E8F0FE;\n",
              "      border: none;\n",
              "      border-radius: 50%;\n",
              "      cursor: pointer;\n",
              "      display: none;\n",
              "      fill: #1967D2;\n",
              "      height: 32px;\n",
              "      padding: 0 0 0 0;\n",
              "      width: 32px;\n",
              "    }\n",
              "\n",
              "    .colab-df-convert:hover {\n",
              "      background-color: #E2EBFA;\n",
              "      box-shadow: 0px 1px 2px rgba(60, 64, 67, 0.3), 0px 1px 3px 1px rgba(60, 64, 67, 0.15);\n",
              "      fill: #174EA6;\n",
              "    }\n",
              "\n",
              "    .colab-df-buttons div {\n",
              "      margin-bottom: 4px;\n",
              "    }\n",
              "\n",
              "    [theme=dark] .colab-df-convert {\n",
              "      background-color: #3B4455;\n",
              "      fill: #D2E3FC;\n",
              "    }\n",
              "\n",
              "    [theme=dark] .colab-df-convert:hover {\n",
              "      background-color: #434B5C;\n",
              "      box-shadow: 0px 1px 3px 1px rgba(0, 0, 0, 0.15);\n",
              "      filter: drop-shadow(0px 1px 2px rgba(0, 0, 0, 0.3));\n",
              "      fill: #FFFFFF;\n",
              "    }\n",
              "  </style>\n",
              "\n",
              "    <script>\n",
              "      const buttonEl =\n",
              "        document.querySelector('#df-161ab004-a874-45e0-a710-67cff96d247f button.colab-df-convert');\n",
              "      buttonEl.style.display =\n",
              "        google.colab.kernel.accessAllowed ? 'block' : 'none';\n",
              "\n",
              "      async function convertToInteractive(key) {\n",
              "        const element = document.querySelector('#df-161ab004-a874-45e0-a710-67cff96d247f');\n",
              "        const dataTable =\n",
              "          await google.colab.kernel.invokeFunction('convertToInteractive',\n",
              "                                                    [key], {});\n",
              "        if (!dataTable) return;\n",
              "\n",
              "        const docLinkHtml = 'Like what you see? Visit the ' +\n",
              "          '<a target=\"_blank\" href=https://colab.research.google.com/notebooks/data_table.ipynb>data table notebook</a>'\n",
              "          + ' to learn more about interactive tables.';\n",
              "        element.innerHTML = '';\n",
              "        dataTable['output_type'] = 'display_data';\n",
              "        await google.colab.output.renderOutput(dataTable, element);\n",
              "        const docLink = document.createElement('div');\n",
              "        docLink.innerHTML = docLinkHtml;\n",
              "        element.appendChild(docLink);\n",
              "      }\n",
              "    </script>\n",
              "  </div>\n",
              "\n",
              "\n",
              "<div id=\"df-f6277359-4531-4da1-a7b1-8d861f7ef6fb\">\n",
              "  <button class=\"colab-df-quickchart\" onclick=\"quickchart('df-f6277359-4531-4da1-a7b1-8d861f7ef6fb')\"\n",
              "            title=\"Suggest charts\"\n",
              "            style=\"display:none;\">\n",
              "\n",
              "<svg xmlns=\"http://www.w3.org/2000/svg\" height=\"24px\"viewBox=\"0 0 24 24\"\n",
              "     width=\"24px\">\n",
              "    <g>\n",
              "        <path d=\"M19 3H5c-1.1 0-2 .9-2 2v14c0 1.1.9 2 2 2h14c1.1 0 2-.9 2-2V5c0-1.1-.9-2-2-2zM9 17H7v-7h2v7zm4 0h-2V7h2v10zm4 0h-2v-4h2v4z\"/>\n",
              "    </g>\n",
              "</svg>\n",
              "  </button>\n",
              "\n",
              "<style>\n",
              "  .colab-df-quickchart {\n",
              "      --bg-color: #E8F0FE;\n",
              "      --fill-color: #1967D2;\n",
              "      --hover-bg-color: #E2EBFA;\n",
              "      --hover-fill-color: #174EA6;\n",
              "      --disabled-fill-color: #AAA;\n",
              "      --disabled-bg-color: #DDD;\n",
              "  }\n",
              "\n",
              "  [theme=dark] .colab-df-quickchart {\n",
              "      --bg-color: #3B4455;\n",
              "      --fill-color: #D2E3FC;\n",
              "      --hover-bg-color: #434B5C;\n",
              "      --hover-fill-color: #FFFFFF;\n",
              "      --disabled-bg-color: #3B4455;\n",
              "      --disabled-fill-color: #666;\n",
              "  }\n",
              "\n",
              "  .colab-df-quickchart {\n",
              "    background-color: var(--bg-color);\n",
              "    border: none;\n",
              "    border-radius: 50%;\n",
              "    cursor: pointer;\n",
              "    display: none;\n",
              "    fill: var(--fill-color);\n",
              "    height: 32px;\n",
              "    padding: 0;\n",
              "    width: 32px;\n",
              "  }\n",
              "\n",
              "  .colab-df-quickchart:hover {\n",
              "    background-color: var(--hover-bg-color);\n",
              "    box-shadow: 0 1px 2px rgba(60, 64, 67, 0.3), 0 1px 3px 1px rgba(60, 64, 67, 0.15);\n",
              "    fill: var(--button-hover-fill-color);\n",
              "  }\n",
              "\n",
              "  .colab-df-quickchart-complete:disabled,\n",
              "  .colab-df-quickchart-complete:disabled:hover {\n",
              "    background-color: var(--disabled-bg-color);\n",
              "    fill: var(--disabled-fill-color);\n",
              "    box-shadow: none;\n",
              "  }\n",
              "\n",
              "  .colab-df-spinner {\n",
              "    border: 2px solid var(--fill-color);\n",
              "    border-color: transparent;\n",
              "    border-bottom-color: var(--fill-color);\n",
              "    animation:\n",
              "      spin 1s steps(1) infinite;\n",
              "  }\n",
              "\n",
              "  @keyframes spin {\n",
              "    0% {\n",
              "      border-color: transparent;\n",
              "      border-bottom-color: var(--fill-color);\n",
              "      border-left-color: var(--fill-color);\n",
              "    }\n",
              "    20% {\n",
              "      border-color: transparent;\n",
              "      border-left-color: var(--fill-color);\n",
              "      border-top-color: var(--fill-color);\n",
              "    }\n",
              "    30% {\n",
              "      border-color: transparent;\n",
              "      border-left-color: var(--fill-color);\n",
              "      border-top-color: var(--fill-color);\n",
              "      border-right-color: var(--fill-color);\n",
              "    }\n",
              "    40% {\n",
              "      border-color: transparent;\n",
              "      border-right-color: var(--fill-color);\n",
              "      border-top-color: var(--fill-color);\n",
              "    }\n",
              "    60% {\n",
              "      border-color: transparent;\n",
              "      border-right-color: var(--fill-color);\n",
              "    }\n",
              "    80% {\n",
              "      border-color: transparent;\n",
              "      border-right-color: var(--fill-color);\n",
              "      border-bottom-color: var(--fill-color);\n",
              "    }\n",
              "    90% {\n",
              "      border-color: transparent;\n",
              "      border-bottom-color: var(--fill-color);\n",
              "    }\n",
              "  }\n",
              "</style>\n",
              "\n",
              "  <script>\n",
              "    async function quickchart(key) {\n",
              "      const quickchartButtonEl =\n",
              "        document.querySelector('#' + key + ' button');\n",
              "      quickchartButtonEl.disabled = true;  // To prevent multiple clicks.\n",
              "      quickchartButtonEl.classList.add('colab-df-spinner');\n",
              "      try {\n",
              "        const charts = await google.colab.kernel.invokeFunction(\n",
              "            'suggestCharts', [key], {});\n",
              "      } catch (error) {\n",
              "        console.error('Error during call to suggestCharts:', error);\n",
              "      }\n",
              "      quickchartButtonEl.classList.remove('colab-df-spinner');\n",
              "      quickchartButtonEl.classList.add('colab-df-quickchart-complete');\n",
              "    }\n",
              "    (() => {\n",
              "      let quickchartButtonEl =\n",
              "        document.querySelector('#df-f6277359-4531-4da1-a7b1-8d861f7ef6fb button');\n",
              "      quickchartButtonEl.style.display =\n",
              "        google.colab.kernel.accessAllowed ? 'block' : 'none';\n",
              "    })();\n",
              "  </script>\n",
              "</div>\n",
              "\n",
              "    </div>\n",
              "  </div>\n"
            ],
            "application/vnd.google.colaboratory.intrinsic+json": {
              "type": "dataframe",
              "variable_name": "datos"
            }
          },
          "metadata": {},
          "execution_count": 3
        }
      ],
      "source": [
        "# Inspecciono las 5 primeras filas\n",
        "datos.head(5)"
      ]
    },
    {
      "cell_type": "markdown",
      "id": "1f3df448",
      "metadata": {
        "id": "1f3df448"
      },
      "source": [
        "### Dimensiones data set"
      ]
    },
    {
      "cell_type": "code",
      "execution_count": 4,
      "id": "f98a75e3",
      "metadata": {
        "colab": {
          "base_uri": "https://localhost:8080/"
        },
        "id": "f98a75e3",
        "outputId": "dc2f8fcc-89c1-461d-ce21-c6b4d9fab9ed"
      },
      "outputs": [
        {
          "output_type": "execute_result",
          "data": {
            "text/plain": [
              "(14319, 31)"
            ]
          },
          "metadata": {},
          "execution_count": 4
        }
      ],
      "source": [
        "# Uso .shape para obtener cantidad de filas y columnas\n",
        "datos.shape"
      ]
    },
    {
      "cell_type": "markdown",
      "id": "62691cf6",
      "metadata": {
        "id": "62691cf6"
      },
      "source": [
        "## Variables"
      ]
    },
    {
      "cell_type": "markdown",
      "id": "ca0c036c",
      "metadata": {
        "id": "ca0c036c"
      },
      "source": [
        "### Nombre de las variables"
      ]
    },
    {
      "cell_type": "code",
      "execution_count": 5,
      "id": "53c07b5f",
      "metadata": {
        "colab": {
          "base_uri": "https://localhost:8080/"
        },
        "id": "53c07b5f",
        "outputId": "3c8b3119-1f81-47df-b719-65f797c38d63"
      },
      "outputs": [
        {
          "output_type": "execute_result",
          "data": {
            "text/plain": [
              "Index(['id', 'nhogar', 'miembro', 'comuna', 'dominio', 'edad', 'sexo',\n",
              "       'parentesco_jefe', 'situacion_conyugal', 'num_miembro_padre',\n",
              "       'num_miembro_madre', 'estado_ocupacional', 'cat_ocupacional',\n",
              "       'calidad_ingresos_lab', 'ingreso_total_lab', 'calidad_ingresos_no_lab',\n",
              "       'ingreso_total_no_lab', 'calidad_ingresos_totales', 'ingresos_totales',\n",
              "       'calidad_ingresos_familiares', 'ingresos_familiares',\n",
              "       'ingreso_per_capita_familiar', 'estado_educativo', 'sector_educativo',\n",
              "       'nivel_actual', 'nivel_max_educativo', 'años_escolaridad',\n",
              "       'lugar_nacimiento', 'afiliacion_salud', 'hijos_nacidos_vivos',\n",
              "       'cantidad_hijos_nac_vivos'],\n",
              "      dtype='object')"
            ]
          },
          "metadata": {},
          "execution_count": 5
        }
      ],
      "source": [
        "# Obtengo el nombre de las columnas\n",
        "datos.columns"
      ]
    },
    {
      "cell_type": "markdown",
      "id": "a32a7c49",
      "metadata": {
        "id": "a32a7c49"
      },
      "source": [
        "### Descripción de variables"
      ]
    },
    {
      "cell_type": "markdown",
      "id": "56bb1384",
      "metadata": {
        "id": "56bb1384"
      },
      "source": [
        "1. **id:** Clave que identifica a la vivienda  \n",
        "2. **nhogar:** La variable id + nhogar componen la clave que identifica a cada hogar  \n",
        "3. **miembro:** Variables id + nhogar+ miembro componen la clave que identifica a cada persona  \n",
        "4. **comuna:** Comuna donde reside la persona encuestada  \n",
        "5. **dominio:** Variable categórica que indica si la vivienda se ubica en una villa de emergencia\n",
        "6. **edad:**\tEdad de la persona encuestada\n",
        "7. **sexo:**\tSexo de la persona encuestada\n",
        "8. **parentesco_jefe:** Variable categórica que indica la relación de parentesco entre la persona encuestada y el jefe/a de hogar  \n",
        "9. **situacion_conyugal:** Situación conyugal de la persona encuestada  \n",
        "10. **num_miembro_padre:**\tNúmero de miembro que corresponde al padre\n",
        "11. **num_miembro_madre:**\tNúmero de miembro que corresponde a la madre\n",
        "12. **estado_ocupacional:** Situación ocupacional de la persona encuestada\n",
        "13. **cat_ocupacional:** Categoría ocupacional de la persona encuestada\n",
        "14. **calidad_ingresos_lab:** Calidad de la declaración de ingresos laborales totales\n",
        "15. **ingreso_total_lab:**\tMonto del ingreso total laboral percibido el mes anterior\n",
        "16. **calidad_ingresos_no_lab:** Calidad de la declaración de ingresos no laborales totales\n",
        "17. **ingreso_total_no_lab:**\tMonto del ingreso total no laboral percibido el mes anterior\n",
        "18. **calidad_ingresos_totales:**\tCalidad de ingresos totales individuales\n",
        "19. **ingresos_totales:** Monto del ingreso total individual percibido el mes anterior\n",
        "20. **calidad_ingresos_familiares:**\tCalidad de ingresos totales familiares\n",
        "21. **ingresos_familiares:** Monto de ingresos totales familiares percibido el mes anterior\n",
        "22. **ingreso_per_capita_familiar:** Monto de ingresos totales familiares percibido el mes anterior\n",
        "23. **estado_educativo:** Asistencia (pasada o presente) o no a algún establecimiento educativo\n",
        "24. **sector_educativo:** Sector al que pertenece el establecimiento educativo al que asiste\n",
        "25. **nivel_actual:** Nivel cursado al momento de la encuesta\n",
        "26. **nivel_max_educativo:** Máximo nivel educativo que se cursó\n",
        "27. **años_escolaridad:** Años de escolaridad alcanzados\n",
        "28. **lugar_nacimiento:** Lugar de nacimiento de la persona encuestada\n",
        "29. **afiliacion_salud:** Afiliación de salud de la persona encuestada\n",
        "30. **hijos_nacidos_vivos:** Tiene o tuvo hijos nacidos vivos\n",
        "31. **cantidad_hijos_nac_vivos:** Cantidad de hijos nacidos vivos"
      ]
    },
    {
      "cell_type": "markdown",
      "id": "3eb7e946",
      "metadata": {
        "id": "3eb7e946"
      },
      "source": [
        "### Tipo de datos de cada columna"
      ]
    },
    {
      "cell_type": "code",
      "execution_count": null,
      "id": "54141013",
      "metadata": {
        "id": "54141013",
        "outputId": "0ee67ae1-882d-41fa-a103-305b808397fe"
      },
      "outputs": [
        {
          "data": {
            "text/plain": [
              "id                              int64\n",
              "nhogar                          int64\n",
              "miembro                         int64\n",
              "comuna                          int64\n",
              "dominio                        object\n",
              "edad                            int64\n",
              "sexo                           object\n",
              "parentesco_jefe                object\n",
              "situacion_conyugal             object\n",
              "num_miembro_padre              object\n",
              "num_miembro_madre              object\n",
              "estado_ocupacional             object\n",
              "cat_ocupacional                object\n",
              "calidad_ingresos_lab           object\n",
              "ingreso_total_lab               int64\n",
              "calidad_ingresos_no_lab        object\n",
              "ingreso_total_no_lab            int64\n",
              "calidad_ingresos_totales       object\n",
              "ingresos_totales                int64\n",
              "calidad_ingresos_familiares    object\n",
              "ingresos_familiares             int64\n",
              "ingreso_per_capita_familiar     int64\n",
              "estado_educativo               object\n",
              "sector_educativo               object\n",
              "nivel_actual                   object\n",
              "nivel_max_educativo            object\n",
              "años_escolaridad               object\n",
              "lugar_nacimiento               object\n",
              "afiliacion_salud               object\n",
              "hijos_nacidos_vivos            object\n",
              "cantidad_hijos_nac_vivos       object\n",
              "dtype: object"
            ]
          },
          "execution_count": 11,
          "metadata": {},
          "output_type": "execute_result"
        }
      ],
      "source": [
        "# Obtengo el tipo de datos de las columnas del dataframe\n",
        "datos.dtypes"
      ]
    },
    {
      "cell_type": "code",
      "source": [
        "# Renombro columnas del DataFrame\n",
        "datos.rename(columns={\"situacion_conyugal\": \"est_civil\", }, inplace=True)\n"
      ],
      "metadata": {
        "id": "m1uEF4YEkUpN"
      },
      "id": "m1uEF4YEkUpN",
      "execution_count": null,
      "outputs": []
    },
    {
      "cell_type": "code",
      "source": [
        "# Chequeo que se hayan reemplazado correctamente\n",
        "datos.columns\n"
      ],
      "metadata": {
        "colab": {
          "base_uri": "https://localhost:8080/"
        },
        "id": "qB3MibC6lXAF",
        "outputId": "f293b2bb-c080-48ee-abcd-df06b4f13ddb"
      },
      "id": "qB3MibC6lXAF",
      "execution_count": 11,
      "outputs": [
        {
          "output_type": "execute_result",
          "data": {
            "text/plain": [
              "Index(['id', 'nhogar', 'miembro', 'comuna', 'dominio', 'edad', 'sexo',\n",
              "       'parentesco_jefe', 'est_civil', 'num_miembro_padre',\n",
              "       'num_miembro_madre', 'estado_ocupacional', 'cat_ocupacional',\n",
              "       'calidad_ingresos_lab', 'ingreso_total_lab', 'calidad_ingresos_no_lab',\n",
              "       'ingreso_total_no_lab', 'calidad_ingresos_totales', 'ingresos_totales',\n",
              "       'calidad_ingresos_familiares', 'ingresos_familiares',\n",
              "       'ingreso_per_capita_familiar', 'estado_educativo', 'sector_educativo',\n",
              "       'nivel_actual', 'nivel_max_educativo', 'años_escolaridad',\n",
              "       'lugar_nacimiento', 'afiliacion_salud', 'hijos_nacidos_vivos',\n",
              "       'cantidad_hijos_nac_vivos'],\n",
              "      dtype='object')"
            ]
          },
          "metadata": {},
          "execution_count": 11
        }
      ]
    },
    {
      "cell_type": "code",
      "source": [
        "# Obtengo los valores unicos de la columna estado_ocupacional\n",
        "ocupacion=datos[\"estado_ocupacional\"].unique()\n",
        "#Imprimo los resuldatos\n",
        "print(\"Las categorias en la columna estado_ocupacional son:\",ocupacion )"
      ],
      "metadata": {
        "colab": {
          "base_uri": "https://localhost:8080/"
        },
        "id": "Lq8jwCdJmXfu",
        "outputId": "99f30a46-5cdb-4dc4-f8c4-fbf891e137e4"
      },
      "id": "Lq8jwCdJmXfu",
      "execution_count": 12,
      "outputs": [
        {
          "output_type": "stream",
          "name": "stdout",
          "text": [
            "Las categorias en la columna estado_ocupacional son: ['Inactivo' 'Ocupado' 'Desocupado']\n"
          ]
        }
      ]
    },
    {
      "cell_type": "code",
      "source": [
        "# Cuento encuestados por comuna\n",
        "print(\"Los encuestados por comuna son:\", datos.groupby(\"comuna\").miembro.count())"
      ],
      "metadata": {
        "colab": {
          "base_uri": "https://localhost:8080/"
        },
        "id": "vCCY8qHMn3f_",
        "outputId": "5c936f9c-b192-4032-f82b-1d7fb048cbd9"
      },
      "id": "vCCY8qHMn3f_",
      "execution_count": 49,
      "outputs": [
        {
          "output_type": "stream",
          "name": "stdout",
          "text": [
            "Los encuestados por comuna son: comuna\n",
            "1     1265\n",
            "2      765\n",
            "3      906\n",
            "4     1300\n",
            "5      818\n",
            "6      755\n",
            "7     1116\n",
            "8     1640\n",
            "9      967\n",
            "10     765\n",
            "11     728\n",
            "12     801\n",
            "13     833\n",
            "14     847\n",
            "15     813\n",
            "Name: miembro, dtype: int64\n"
          ]
        }
      ]
    },
    {
      "cell_type": "markdown",
      "id": "aab6aa69",
      "metadata": {
        "id": "aab6aa69"
      },
      "source": [
        "## Análisis exploratorio"
      ]
    },
    {
      "cell_type": "markdown",
      "id": "3fee1bd1",
      "metadata": {
        "id": "3fee1bd1"
      },
      "source": [
        "El data frame contiene variables de ingresos laborales en pesos argentinos para el año 2019. Consideramos pertinente crear nuevas variables con los valores de ingresos en dólares estadounidenses a fin de poder extrapolar los datos a la actualidad y comparar con valores en otros países.\n",
        "Utilizamos el valor alcanzado por el dólar al 30 de diciembre de 2019 que fue de $63.35      \n",
        "\n",
        "**Las variables a crear serían:**\n",
        "\n",
        "- ingreso_total_lab_USD (creada a partir de ingreso_total_lab)     \n",
        "- ingreso_total_no_lab_USD (creada a partir de ingreso_total_no_lab)  \n",
        "- ingresos_totales_USD (creada a partir de ingresos_totales)                 \n",
        "- ingresos_familiares_USD  (creada a partir de ingresos_familiares)          \n",
        "- ingreso_per_capita_familiar_USD (creada a partir de ingreso_per_capita_familiar)     \n"
      ]
    },
    {
      "cell_type": "code",
      "execution_count": null,
      "id": "cc87d6b0",
      "metadata": {
        "id": "cc87d6b0"
      },
      "outputs": [],
      "source": [
        "datos['ingreso_total_lab_USD'] = datos['ingreso_total_lab']/63.35\n",
        "datos['ingreso_total_no_lab_USD'] = datos['ingreso_total_no_lab']/[63.35]\n",
        "datos['ingresos_totales_USD'] = datos['ingresos_totales']/63.35\n",
        "datos['ingresos_familiares_USD'] = datos['ingresos_familiares']/63.35\n",
        "datos['ingreso_per_capita_familiar_USD'] = datos['ingreso_per_capita_familiar']/63.35"
      ]
    },
    {
      "cell_type": "markdown",
      "id": "69db6ab5",
      "metadata": {
        "id": "69db6ab5"
      },
      "source": [
        "### Descripción estadístia general de las variables"
      ]
    },
    {
      "cell_type": "code",
      "execution_count": 6,
      "id": "419f4d95",
      "metadata": {
        "colab": {
          "base_uri": "https://localhost:8080/",
          "height": 320
        },
        "id": "419f4d95",
        "outputId": "c9035117-1338-4fc5-8be3-0bbd1d0876e5"
      },
      "outputs": [
        {
          "output_type": "execute_result",
          "data": {
            "text/plain": [
              "                 id        nhogar       miembro        comuna         edad  \\\n",
              "count  14319.000000  14319.000000  14319.000000  14319.000000  14319.00000   \n",
              "mean    2710.024094      1.009638      2.144982      7.620644     38.81549   \n",
              "std     1535.910251      0.126376      1.354969      4.236359     23.11017   \n",
              "min        1.000000      1.000000      1.000000      1.000000      0.00000   \n",
              "25%     1473.000000      1.000000      1.000000      4.000000     20.00000   \n",
              "50%     2611.000000      1.000000      2.000000      8.000000     37.00000   \n",
              "75%     3898.000000      1.000000      3.000000     11.000000     57.00000   \n",
              "max     5795.000000      7.000000     19.000000     15.000000    100.00000   \n",
              "\n",
              "       ingreso_total_lab  ingreso_total_no_lab  ingresos_totales  \\\n",
              "count       14319.000000          14319.000000      14319.000000   \n",
              "mean        20078.626440           6016.234583      26094.861024   \n",
              "std         34698.173111          16065.350052      37152.503186   \n",
              "min             0.000000              0.000000          0.000000   \n",
              "25%             0.000000              0.000000          0.000000   \n",
              "50%          2500.000000              0.000000      16000.000000   \n",
              "75%         30000.000000           4000.000000      37000.000000   \n",
              "max       1000000.000000         500000.000000    1000000.000000   \n",
              "\n",
              "       ingresos_familiares  ingreso_per_capita_familiar  \n",
              "count         14319.000000                 14319.000000  \n",
              "mean          70212.818423                 26192.009638  \n",
              "std           62685.684278                 27463.908496  \n",
              "min               0.000000                     0.000000  \n",
              "25%           30000.000000                 10500.000000  \n",
              "50%           54000.000000                 19900.000000  \n",
              "75%           90000.000000                 33500.000000  \n",
              "max         1000000.000000               1000000.000000  "
            ],
            "text/html": [
              "\n",
              "  <div id=\"df-65dfa48b-250a-4a9f-af3d-a5a33084399f\" class=\"colab-df-container\">\n",
              "    <div>\n",
              "<style scoped>\n",
              "    .dataframe tbody tr th:only-of-type {\n",
              "        vertical-align: middle;\n",
              "    }\n",
              "\n",
              "    .dataframe tbody tr th {\n",
              "        vertical-align: top;\n",
              "    }\n",
              "\n",
              "    .dataframe thead th {\n",
              "        text-align: right;\n",
              "    }\n",
              "</style>\n",
              "<table border=\"1\" class=\"dataframe\">\n",
              "  <thead>\n",
              "    <tr style=\"text-align: right;\">\n",
              "      <th></th>\n",
              "      <th>id</th>\n",
              "      <th>nhogar</th>\n",
              "      <th>miembro</th>\n",
              "      <th>comuna</th>\n",
              "      <th>edad</th>\n",
              "      <th>ingreso_total_lab</th>\n",
              "      <th>ingreso_total_no_lab</th>\n",
              "      <th>ingresos_totales</th>\n",
              "      <th>ingresos_familiares</th>\n",
              "      <th>ingreso_per_capita_familiar</th>\n",
              "    </tr>\n",
              "  </thead>\n",
              "  <tbody>\n",
              "    <tr>\n",
              "      <th>count</th>\n",
              "      <td>14319.000000</td>\n",
              "      <td>14319.000000</td>\n",
              "      <td>14319.000000</td>\n",
              "      <td>14319.000000</td>\n",
              "      <td>14319.00000</td>\n",
              "      <td>14319.000000</td>\n",
              "      <td>14319.000000</td>\n",
              "      <td>14319.000000</td>\n",
              "      <td>14319.000000</td>\n",
              "      <td>14319.000000</td>\n",
              "    </tr>\n",
              "    <tr>\n",
              "      <th>mean</th>\n",
              "      <td>2710.024094</td>\n",
              "      <td>1.009638</td>\n",
              "      <td>2.144982</td>\n",
              "      <td>7.620644</td>\n",
              "      <td>38.81549</td>\n",
              "      <td>20078.626440</td>\n",
              "      <td>6016.234583</td>\n",
              "      <td>26094.861024</td>\n",
              "      <td>70212.818423</td>\n",
              "      <td>26192.009638</td>\n",
              "    </tr>\n",
              "    <tr>\n",
              "      <th>std</th>\n",
              "      <td>1535.910251</td>\n",
              "      <td>0.126376</td>\n",
              "      <td>1.354969</td>\n",
              "      <td>4.236359</td>\n",
              "      <td>23.11017</td>\n",
              "      <td>34698.173111</td>\n",
              "      <td>16065.350052</td>\n",
              "      <td>37152.503186</td>\n",
              "      <td>62685.684278</td>\n",
              "      <td>27463.908496</td>\n",
              "    </tr>\n",
              "    <tr>\n",
              "      <th>min</th>\n",
              "      <td>1.000000</td>\n",
              "      <td>1.000000</td>\n",
              "      <td>1.000000</td>\n",
              "      <td>1.000000</td>\n",
              "      <td>0.00000</td>\n",
              "      <td>0.000000</td>\n",
              "      <td>0.000000</td>\n",
              "      <td>0.000000</td>\n",
              "      <td>0.000000</td>\n",
              "      <td>0.000000</td>\n",
              "    </tr>\n",
              "    <tr>\n",
              "      <th>25%</th>\n",
              "      <td>1473.000000</td>\n",
              "      <td>1.000000</td>\n",
              "      <td>1.000000</td>\n",
              "      <td>4.000000</td>\n",
              "      <td>20.00000</td>\n",
              "      <td>0.000000</td>\n",
              "      <td>0.000000</td>\n",
              "      <td>0.000000</td>\n",
              "      <td>30000.000000</td>\n",
              "      <td>10500.000000</td>\n",
              "    </tr>\n",
              "    <tr>\n",
              "      <th>50%</th>\n",
              "      <td>2611.000000</td>\n",
              "      <td>1.000000</td>\n",
              "      <td>2.000000</td>\n",
              "      <td>8.000000</td>\n",
              "      <td>37.00000</td>\n",
              "      <td>2500.000000</td>\n",
              "      <td>0.000000</td>\n",
              "      <td>16000.000000</td>\n",
              "      <td>54000.000000</td>\n",
              "      <td>19900.000000</td>\n",
              "    </tr>\n",
              "    <tr>\n",
              "      <th>75%</th>\n",
              "      <td>3898.000000</td>\n",
              "      <td>1.000000</td>\n",
              "      <td>3.000000</td>\n",
              "      <td>11.000000</td>\n",
              "      <td>57.00000</td>\n",
              "      <td>30000.000000</td>\n",
              "      <td>4000.000000</td>\n",
              "      <td>37000.000000</td>\n",
              "      <td>90000.000000</td>\n",
              "      <td>33500.000000</td>\n",
              "    </tr>\n",
              "    <tr>\n",
              "      <th>max</th>\n",
              "      <td>5795.000000</td>\n",
              "      <td>7.000000</td>\n",
              "      <td>19.000000</td>\n",
              "      <td>15.000000</td>\n",
              "      <td>100.00000</td>\n",
              "      <td>1000000.000000</td>\n",
              "      <td>500000.000000</td>\n",
              "      <td>1000000.000000</td>\n",
              "      <td>1000000.000000</td>\n",
              "      <td>1000000.000000</td>\n",
              "    </tr>\n",
              "  </tbody>\n",
              "</table>\n",
              "</div>\n",
              "    <div class=\"colab-df-buttons\">\n",
              "\n",
              "  <div class=\"colab-df-container\">\n",
              "    <button class=\"colab-df-convert\" onclick=\"convertToInteractive('df-65dfa48b-250a-4a9f-af3d-a5a33084399f')\"\n",
              "            title=\"Convert this dataframe to an interactive table.\"\n",
              "            style=\"display:none;\">\n",
              "\n",
              "  <svg xmlns=\"http://www.w3.org/2000/svg\" height=\"24px\" viewBox=\"0 -960 960 960\">\n",
              "    <path d=\"M120-120v-720h720v720H120Zm60-500h600v-160H180v160Zm220 220h160v-160H400v160Zm0 220h160v-160H400v160ZM180-400h160v-160H180v160Zm440 0h160v-160H620v160ZM180-180h160v-160H180v160Zm440 0h160v-160H620v160Z\"/>\n",
              "  </svg>\n",
              "    </button>\n",
              "\n",
              "  <style>\n",
              "    .colab-df-container {\n",
              "      display:flex;\n",
              "      gap: 12px;\n",
              "    }\n",
              "\n",
              "    .colab-df-convert {\n",
              "      background-color: #E8F0FE;\n",
              "      border: none;\n",
              "      border-radius: 50%;\n",
              "      cursor: pointer;\n",
              "      display: none;\n",
              "      fill: #1967D2;\n",
              "      height: 32px;\n",
              "      padding: 0 0 0 0;\n",
              "      width: 32px;\n",
              "    }\n",
              "\n",
              "    .colab-df-convert:hover {\n",
              "      background-color: #E2EBFA;\n",
              "      box-shadow: 0px 1px 2px rgba(60, 64, 67, 0.3), 0px 1px 3px 1px rgba(60, 64, 67, 0.15);\n",
              "      fill: #174EA6;\n",
              "    }\n",
              "\n",
              "    .colab-df-buttons div {\n",
              "      margin-bottom: 4px;\n",
              "    }\n",
              "\n",
              "    [theme=dark] .colab-df-convert {\n",
              "      background-color: #3B4455;\n",
              "      fill: #D2E3FC;\n",
              "    }\n",
              "\n",
              "    [theme=dark] .colab-df-convert:hover {\n",
              "      background-color: #434B5C;\n",
              "      box-shadow: 0px 1px 3px 1px rgba(0, 0, 0, 0.15);\n",
              "      filter: drop-shadow(0px 1px 2px rgba(0, 0, 0, 0.3));\n",
              "      fill: #FFFFFF;\n",
              "    }\n",
              "  </style>\n",
              "\n",
              "    <script>\n",
              "      const buttonEl =\n",
              "        document.querySelector('#df-65dfa48b-250a-4a9f-af3d-a5a33084399f button.colab-df-convert');\n",
              "      buttonEl.style.display =\n",
              "        google.colab.kernel.accessAllowed ? 'block' : 'none';\n",
              "\n",
              "      async function convertToInteractive(key) {\n",
              "        const element = document.querySelector('#df-65dfa48b-250a-4a9f-af3d-a5a33084399f');\n",
              "        const dataTable =\n",
              "          await google.colab.kernel.invokeFunction('convertToInteractive',\n",
              "                                                    [key], {});\n",
              "        if (!dataTable) return;\n",
              "\n",
              "        const docLinkHtml = 'Like what you see? Visit the ' +\n",
              "          '<a target=\"_blank\" href=https://colab.research.google.com/notebooks/data_table.ipynb>data table notebook</a>'\n",
              "          + ' to learn more about interactive tables.';\n",
              "        element.innerHTML = '';\n",
              "        dataTable['output_type'] = 'display_data';\n",
              "        await google.colab.output.renderOutput(dataTable, element);\n",
              "        const docLink = document.createElement('div');\n",
              "        docLink.innerHTML = docLinkHtml;\n",
              "        element.appendChild(docLink);\n",
              "      }\n",
              "    </script>\n",
              "  </div>\n",
              "\n",
              "\n",
              "<div id=\"df-7ad2dd97-9e8e-43d0-b41f-ce39aff64299\">\n",
              "  <button class=\"colab-df-quickchart\" onclick=\"quickchart('df-7ad2dd97-9e8e-43d0-b41f-ce39aff64299')\"\n",
              "            title=\"Suggest charts\"\n",
              "            style=\"display:none;\">\n",
              "\n",
              "<svg xmlns=\"http://www.w3.org/2000/svg\" height=\"24px\"viewBox=\"0 0 24 24\"\n",
              "     width=\"24px\">\n",
              "    <g>\n",
              "        <path d=\"M19 3H5c-1.1 0-2 .9-2 2v14c0 1.1.9 2 2 2h14c1.1 0 2-.9 2-2V5c0-1.1-.9-2-2-2zM9 17H7v-7h2v7zm4 0h-2V7h2v10zm4 0h-2v-4h2v4z\"/>\n",
              "    </g>\n",
              "</svg>\n",
              "  </button>\n",
              "\n",
              "<style>\n",
              "  .colab-df-quickchart {\n",
              "      --bg-color: #E8F0FE;\n",
              "      --fill-color: #1967D2;\n",
              "      --hover-bg-color: #E2EBFA;\n",
              "      --hover-fill-color: #174EA6;\n",
              "      --disabled-fill-color: #AAA;\n",
              "      --disabled-bg-color: #DDD;\n",
              "  }\n",
              "\n",
              "  [theme=dark] .colab-df-quickchart {\n",
              "      --bg-color: #3B4455;\n",
              "      --fill-color: #D2E3FC;\n",
              "      --hover-bg-color: #434B5C;\n",
              "      --hover-fill-color: #FFFFFF;\n",
              "      --disabled-bg-color: #3B4455;\n",
              "      --disabled-fill-color: #666;\n",
              "  }\n",
              "\n",
              "  .colab-df-quickchart {\n",
              "    background-color: var(--bg-color);\n",
              "    border: none;\n",
              "    border-radius: 50%;\n",
              "    cursor: pointer;\n",
              "    display: none;\n",
              "    fill: var(--fill-color);\n",
              "    height: 32px;\n",
              "    padding: 0;\n",
              "    width: 32px;\n",
              "  }\n",
              "\n",
              "  .colab-df-quickchart:hover {\n",
              "    background-color: var(--hover-bg-color);\n",
              "    box-shadow: 0 1px 2px rgba(60, 64, 67, 0.3), 0 1px 3px 1px rgba(60, 64, 67, 0.15);\n",
              "    fill: var(--button-hover-fill-color);\n",
              "  }\n",
              "\n",
              "  .colab-df-quickchart-complete:disabled,\n",
              "  .colab-df-quickchart-complete:disabled:hover {\n",
              "    background-color: var(--disabled-bg-color);\n",
              "    fill: var(--disabled-fill-color);\n",
              "    box-shadow: none;\n",
              "  }\n",
              "\n",
              "  .colab-df-spinner {\n",
              "    border: 2px solid var(--fill-color);\n",
              "    border-color: transparent;\n",
              "    border-bottom-color: var(--fill-color);\n",
              "    animation:\n",
              "      spin 1s steps(1) infinite;\n",
              "  }\n",
              "\n",
              "  @keyframes spin {\n",
              "    0% {\n",
              "      border-color: transparent;\n",
              "      border-bottom-color: var(--fill-color);\n",
              "      border-left-color: var(--fill-color);\n",
              "    }\n",
              "    20% {\n",
              "      border-color: transparent;\n",
              "      border-left-color: var(--fill-color);\n",
              "      border-top-color: var(--fill-color);\n",
              "    }\n",
              "    30% {\n",
              "      border-color: transparent;\n",
              "      border-left-color: var(--fill-color);\n",
              "      border-top-color: var(--fill-color);\n",
              "      border-right-color: var(--fill-color);\n",
              "    }\n",
              "    40% {\n",
              "      border-color: transparent;\n",
              "      border-right-color: var(--fill-color);\n",
              "      border-top-color: var(--fill-color);\n",
              "    }\n",
              "    60% {\n",
              "      border-color: transparent;\n",
              "      border-right-color: var(--fill-color);\n",
              "    }\n",
              "    80% {\n",
              "      border-color: transparent;\n",
              "      border-right-color: var(--fill-color);\n",
              "      border-bottom-color: var(--fill-color);\n",
              "    }\n",
              "    90% {\n",
              "      border-color: transparent;\n",
              "      border-bottom-color: var(--fill-color);\n",
              "    }\n",
              "  }\n",
              "</style>\n",
              "\n",
              "  <script>\n",
              "    async function quickchart(key) {\n",
              "      const quickchartButtonEl =\n",
              "        document.querySelector('#' + key + ' button');\n",
              "      quickchartButtonEl.disabled = true;  // To prevent multiple clicks.\n",
              "      quickchartButtonEl.classList.add('colab-df-spinner');\n",
              "      try {\n",
              "        const charts = await google.colab.kernel.invokeFunction(\n",
              "            'suggestCharts', [key], {});\n",
              "      } catch (error) {\n",
              "        console.error('Error during call to suggestCharts:', error);\n",
              "      }\n",
              "      quickchartButtonEl.classList.remove('colab-df-spinner');\n",
              "      quickchartButtonEl.classList.add('colab-df-quickchart-complete');\n",
              "    }\n",
              "    (() => {\n",
              "      let quickchartButtonEl =\n",
              "        document.querySelector('#df-7ad2dd97-9e8e-43d0-b41f-ce39aff64299 button');\n",
              "      quickchartButtonEl.style.display =\n",
              "        google.colab.kernel.accessAllowed ? 'block' : 'none';\n",
              "    })();\n",
              "  </script>\n",
              "</div>\n",
              "\n",
              "    </div>\n",
              "  </div>\n"
            ],
            "application/vnd.google.colaboratory.intrinsic+json": {
              "type": "dataframe",
              "summary": "{\n  \"name\": \"datos\",\n  \"rows\": 8,\n  \"fields\": [\n    {\n      \"column\": \"id\",\n      \"properties\": {\n        \"dtype\": \"number\",\n        \"std\": 4499.878040119987,\n        \"min\": 1.0,\n        \"max\": 14319.0,\n        \"num_unique_values\": 8,\n        \"samples\": [\n          2710.0240938613033,\n          2611.0,\n          14319.0\n        ],\n        \"semantic_type\": \"\",\n        \"description\": \"\"\n      }\n    },\n    {\n      \"column\": \"nhogar\",\n      \"properties\": {\n        \"dtype\": \"number\",\n        \"std\": 5061.918504264675,\n        \"min\": 0.12637565942631868,\n        \"max\": 14319.0,\n        \"num_unique_values\": 5,\n        \"samples\": [\n          1.0096375445212655,\n          7.0,\n          0.12637565942631868\n        ],\n        \"semantic_type\": \"\",\n        \"description\": \"\"\n      }\n    },\n    {\n      \"column\": \"miembro\",\n      \"properties\": {\n        \"dtype\": \"number\",\n        \"std\": 5061.044670244069,\n        \"min\": 1.0,\n        \"max\": 14319.0,\n        \"num_unique_values\": 7,\n        \"samples\": [\n          14319.0,\n          2.144982191493819,\n          3.0\n        ],\n        \"semantic_type\": \"\",\n        \"description\": \"\"\n      }\n    },\n    {\n      \"column\": \"comuna\",\n      \"properties\": {\n        \"dtype\": \"number\",\n        \"std\": 5059.964218351512,\n        \"min\": 1.0,\n        \"max\": 14319.0,\n        \"num_unique_values\": 8,\n        \"samples\": [\n          7.620643899713667,\n          8.0,\n          14319.0\n        ],\n        \"semantic_type\": \"\",\n        \"description\": \"\"\n      }\n    },\n    {\n      \"column\": \"edad\",\n      \"properties\": {\n        \"dtype\": \"number\",\n        \"std\": 5048.682117240367,\n        \"min\": 0.0,\n        \"max\": 14319.0,\n        \"num_unique_values\": 8,\n        \"samples\": [\n          38.815489908513165,\n          37.0,\n          14319.0\n        ],\n        \"semantic_type\": \"\",\n        \"description\": \"\"\n      }\n    },\n    {\n      \"column\": \"ingreso_total_lab\",\n      \"properties\": {\n        \"dtype\": \"number\",\n        \"std\": 348676.93500254984,\n        \"min\": 0.0,\n        \"max\": 1000000.0,\n        \"num_unique_values\": 7,\n        \"samples\": [\n          14319.0,\n          20078.626440393884,\n          30000.0\n        ],\n        \"semantic_type\": \"\",\n        \"description\": \"\"\n      }\n    },\n    {\n      \"column\": \"ingreso_total_no_lab\",\n      \"properties\": {\n        \"dtype\": \"number\",\n        \"std\": 174851.4574993546,\n        \"min\": 0.0,\n        \"max\": 500000.0,\n        \"num_unique_values\": 6,\n        \"samples\": [\n          14319.0,\n          6016.23458342063,\n          500000.0\n        ],\n        \"semantic_type\": \"\",\n        \"description\": \"\"\n      }\n    },\n    {\n      \"column\": \"ingresos_totales\",\n      \"properties\": {\n        \"dtype\": \"number\",\n        \"std\": 347258.39412677655,\n        \"min\": 0.0,\n        \"max\": 1000000.0,\n        \"num_unique_values\": 7,\n        \"samples\": [\n          14319.0,\n          26094.861023814512,\n          37000.0\n        ],\n        \"semantic_type\": \"\",\n        \"description\": \"\"\n      }\n    },\n    {\n      \"column\": \"ingresos_familiares\",\n      \"properties\": {\n        \"dtype\": \"number\",\n        \"std\": 338648.2387933431,\n        \"min\": 0.0,\n        \"max\": 1000000.0,\n        \"num_unique_values\": 8,\n        \"samples\": [\n          70212.81842307423,\n          54000.0,\n          14319.0\n        ],\n        \"semantic_type\": \"\",\n        \"description\": \"\"\n      }\n    },\n    {\n      \"column\": \"ingreso_per_capita_familiar\",\n      \"properties\": {\n        \"dtype\": \"number\",\n        \"std\": 347055.2091963296,\n        \"min\": 0.0,\n        \"max\": 1000000.0,\n        \"num_unique_values\": 8,\n        \"samples\": [\n          26192.00963754452,\n          19900.0,\n          14319.0\n        ],\n        \"semantic_type\": \"\",\n        \"description\": \"\"\n      }\n    }\n  ]\n}"
            }
          },
          "metadata": {},
          "execution_count": 6
        }
      ],
      "source": [
        "# Obtento información estadística de los datos del dataframe\n",
        "datos.describe()"
      ]
    },
    {
      "cell_type": "markdown",
      "id": "b7247a1c",
      "metadata": {
        "id": "b7247a1c"
      },
      "source": [
        "Del resumen estadístico podemos destacar:\n",
        "*  **id:** el valor máximo nos da la cantidad de hogares muestreados: 5795\n",
        "*  **miembro:** el número mínimo registrado de personas por hogar es 1 y el máximo es 19\n",
        "*  **comuna:** el valor máximo nos informa que el muestreo tuvo en cuenta a las 15 comunas que conforman la Ciudad de Buenos Aires\n",
        "*  **edad:** la edad promedio de las personas encuestadas fue de aproximadamente 39 años. La edad mínima fue de 0 años y la máxima de 100 años. Los valores de la media y la mediana nos informan que la muestra tuvo una mayor proporción de personas jóvenes (ver histograma) que determinó que los datos estuvieran concentrados hacia la izquierda\n",
        "*  **ingresos_totales:** el valor máximo en pesos fue 1000000 y la media fue 26094.86 a valores del 2019\n",
        "* **ingresos_familiares:** el valor medio en pesos fue 70212.82 por hogar a valores del 2019"
      ]
    },
    {
      "cell_type": "markdown",
      "id": "a32abc5f",
      "metadata": {
        "id": "a32abc5f"
      },
      "source": [
        "### Cantidad de valores nulos"
      ]
    },
    {
      "cell_type": "code",
      "execution_count": 50,
      "id": "9feac4ea",
      "metadata": {
        "colab": {
          "base_uri": "https://localhost:8080/"
        },
        "id": "9feac4ea",
        "outputId": "54d18ebc-d7db-4bbf-b1e9-c6418fcd6422"
      },
      "outputs": [
        {
          "output_type": "execute_result",
          "data": {
            "text/plain": [
              "id                                0\n",
              "nhogar                            0\n",
              "miembro                           0\n",
              "comuna                            0\n",
              "dominio                           0\n",
              "edad                              0\n",
              "sexo                              0\n",
              "parentesco_jefe                   0\n",
              "est_civil                         1\n",
              "num_miembro_padre                 0\n",
              "num_miembro_madre                 0\n",
              "estado_ocupacional                0\n",
              "cat_ocupacional                   0\n",
              "calidad_ingresos_lab              0\n",
              "ingreso_total_lab                 0\n",
              "calidad_ingresos_no_lab           0\n",
              "ingreso_total_no_lab              0\n",
              "calidad_ingresos_totales          0\n",
              "ingresos_totales                  0\n",
              "calidad_ingresos_familiares       0\n",
              "ingresos_familiares               0\n",
              "ingreso_per_capita_familiar       0\n",
              "estado_educativo                  0\n",
              "sector_educativo                  3\n",
              "nivel_actual                      0\n",
              "nivel_max_educativo            1054\n",
              "años_escolaridad                 62\n",
              "lugar_nacimiento                  1\n",
              "afiliacion_salud                  4\n",
              "hijos_nacidos_vivos            7784\n",
              "cantidad_hijos_nac_vivos          0\n",
              "dtype: int64"
            ]
          },
          "metadata": {},
          "execution_count": 50
        }
      ],
      "source": [
        "# Obtengo la cantidad de datos faltantes en cada columna\n",
        "datos.isnull().sum()"
      ]
    },
    {
      "cell_type": "markdown",
      "id": "9c8f1bee",
      "metadata": {
        "id": "9c8f1bee"
      },
      "source": [
        "### Exploración de valores nulos presentes\n"
      ]
    },
    {
      "cell_type": "markdown",
      "id": "b004a9bb",
      "metadata": {
        "id": "b004a9bb"
      },
      "source": [
        "La variable **hijos_nacido_vivos** contiene la mayor cantidad de valores nulos del data frame, 54% de los registros de la variable son nulos (7784/len(datos)). La información contenida en esta variable es similar a la de la variable **cantidad_hijos_nac_vivos**. Se podría considerar esta última, que no posee nulos, en los análisis si es necesario.  "
      ]
    },
    {
      "cell_type": "markdown",
      "id": "50782b36",
      "metadata": {
        "id": "50782b36"
      },
      "source": [
        "En la variable **nivel_max_educativo** los valores nulos estan concentrados en los primeros años de edad. Desde los 0 a los 5 años el número de personas registradas coincide con el número de nulos para cada una de esas edades. Se podría considerar ubicar a estos datos dentro de una nueva categoría que describa correctamente su situacion por ej: \"No alcanzado\" o utilizar una categoría ya existente como \"No corresponde\""
      ]
    },
    {
      "cell_type": "code",
      "execution_count": null,
      "id": "0a2d8175",
      "metadata": {
        "id": "0a2d8175",
        "outputId": "eac901d1-1642-4dde-a638-41acc8e307be"
      },
      "outputs": [
        {
          "name": "stdout",
          "output_type": "stream",
          "text": [
            "   edad  nulls_nivel_max_educativo\n",
            "0     0                        128\n",
            "1     1                        148\n",
            "2     2                        158\n",
            "3     3                        160\n",
            "4     4                        177\n",
            "5     5                        182\n",
            "6     6                         53\n",
            "7     7                          1\n",
            "8     8                          0\n",
            "9     9                          0\n"
          ]
        }
      ],
      "source": [
        "# Valores nulos de la variable nivel_max_educativo por edad\n",
        "count_nulls = datos.groupby('edad')['nivel_max_educativo'].apply(lambda x: x.isnull().sum()) #Calcular el número de nulos por edad\n",
        "nulls = count_nulls.to_frame() #Convertir serie en data frame\n",
        "nulls = nulls.reset_index()\n",
        "nulls = nulls.rename(columns={'nivel_max_educativo': 'nulls_nivel_max_educativo'})\n",
        "print(nulls.head(10))"
      ]
    },
    {
      "cell_type": "code",
      "execution_count": null,
      "id": "d1bfe8a5",
      "metadata": {
        "id": "d1bfe8a5",
        "outputId": "913c09e6-c57a-4308-a5bc-32a6db83fc89"
      },
      "outputs": [
        {
          "name": "stdout",
          "output_type": "stream",
          "text": [
            "0 128\n",
            "1 148\n",
            "2 158\n",
            "3 160\n",
            "4 177\n",
            "5 182\n",
            "6 152\n",
            "7 176\n",
            "8 176\n"
          ]
        }
      ],
      "source": [
        "# Número de personas registradas de entre 0 y 8 años.\n",
        "# Hasta los 5 años los valores nulos coindicen con el numero de personas registradas en ese rango de edades\n",
        "edades =[0,1,2,3,4,5,6,7,8]\n",
        "for i in edades:\n",
        "    numero = (datos['edad'] == i).sum()\n",
        "    print(i, numero)"
      ]
    },
    {
      "cell_type": "code",
      "execution_count": null,
      "id": "de9b7858",
      "metadata": {
        "id": "de9b7858",
        "outputId": "fd87285c-ae31-4e94-a99a-fc8179494e82"
      },
      "outputs": [
        {
          "data": {
            "text/plain": [
              "Text(0.5, 0, 'Edad')"
            ]
          },
          "execution_count": 116,
          "metadata": {},
          "output_type": "execute_result"
        },
        {
          "data": {
            "image/png": "[encoded data removed]",
            "text/plain": [
              "<Figure size 2500x400 with 1 Axes>"
            ]
          },
          "metadata": {},
          "output_type": "display_data"
        }
      ],
      "source": [
        "plt.figure(figsize=(25, 4))\n",
        "plt.bar(\"edad\", \"nulls_nivel_max_educativo\", data=nulls, color=\"skyblue\")\n",
        "plt.title('Cantidad de nulos por edad variable nivel_max_educativo', size=14, pad=15)\n",
        "plt.ylabel('Cantidad', size=12)\n",
        "plt.xlabel('Edad', size=12)"
      ]
    },
    {
      "cell_type": "code",
      "execution_count": null,
      "id": "7cf29d35",
      "metadata": {
        "id": "7cf29d35"
      },
      "outputs": [],
      "source": [
        "### Crear variable con ingresos en dólares (ver valor para el año 2019)"
      ]
    },
    {
      "cell_type": "code",
      "execution_count": null,
      "id": "dbe9572a",
      "metadata": {
        "id": "dbe9572a",
        "outputId": "3f0939c0-f3c7-48be-a2a2-1728fe928697"
      },
      "outputs": [
        {
          "data": {
            "text/plain": [
              "Text(0, 0.5, 'Cantidad')"
            ]
          },
          "execution_count": 93,
          "metadata": {},
          "output_type": "execute_result"
        },
        {
          "data": {
            "image/png": "[encoded data removed]",
            "text/plain": [
              "<Figure size 2500x400 with 1 Axes>"
            ]
          },
          "metadata": {},
          "output_type": "display_data"
        }
      ],
      "source": [
        "conteo_ceros_por_edad = datos.groupby('edad')['ingresos_totales'].apply(lambda x: (x == 0).sum())\n",
        "\n",
        "ceros = conteo_ceros_por_edad.to_frame() #Convertir serie en data frame\n",
        "ceros = ceros.reset_index()\n",
        "\n",
        "plt.figure(figsize=(25, 4))\n",
        "plt.bar(\"edad\", \"ingresos_totales\", data=ceros)\n",
        "plt.title('Conteo de individuos con sueldos = cero discriminados por edad', size=14, pad=15)\n",
        "plt.ylabel('Cantidad', size=12)"
      ]
    }
  ],
  "metadata": {
    "kernelspec": {
      "display_name": "Python 3 (ipykernel)",
      "language": "python",
      "name": "python3"
    },
    "language_info": {
      "codemirror_mode": {
        "name": "ipython",
        "version": 3
      },
      "file_extension": ".py",
      "mimetype": "text/x-python",
      "name": "python",
      "nbconvert_exporter": "python",
      "pygments_lexer": "ipython3",
      "version": "3.11.7"
    },
    "colab": {
      "provenance": [],
      "include_colab_link": true
    }
  },
  "nbformat": 4,
  "nbformat_minor": 5
}