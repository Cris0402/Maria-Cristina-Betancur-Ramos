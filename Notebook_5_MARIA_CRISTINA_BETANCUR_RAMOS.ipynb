{
  "nbformat": 4,
  "nbformat_minor": 0,
  "metadata": {
    "kernelspec": {
      "display_name": "Python 3",
      "language": "python",
      "name": "python3"
    },
    "language_info": {
      "codemirror_mode": {
        "name": "ipython",
        "version": 3
      },
      "file_extension": ".py",
      "mimetype": "text/x-python",
      "name": "python",
      "nbconvert_exporter": "python",
      "pygments_lexer": "ipython3",
      "version": "3.7.3"
    },
    "colab": {
      "provenance": []
    }
  },
  "cells": [
    {
      "cell_type": "markdown",
      "metadata": {
        "id": "Gp2WddtV9IwG"
      },
      "source": [
        "# Programa Ingenias+ Data Science"
      ]
    },
    {
      "cell_type": "markdown",
      "metadata": {
        "id": "H4M1yVbf9IwH"
      },
      "source": [
        "Como dijimos en clases anteriores, Python tiene implementadas muchas librerias para poder trabajar con datos. En la clase de hoy trabajaremos con una de ellas: `Numpy`."
      ]
    },
    {
      "cell_type": "markdown",
      "metadata": {
        "id": "GdTT8WeL9IwI"
      },
      "source": [
        "Antes de comenzar, vamos a hablar un poco de esta libreria o modulo.\n",
        "\n",
        "**Numpy** es una librería optimizada para realizar cálculos numéricos con vectores y matrices. A diferencia de otros lenguajes de programación, Python no posee en su estructura central la figura de matrices. Eso quiere decir que para poder trabajar con esta estructura de datos deberiamos trabajar con listas de listas. NumPy introduce el concepto de arrays o matrices."
      ]
    },
    {
      "cell_type": "markdown",
      "metadata": {
        "id": "qWkq3EHK9IwK"
      },
      "source": [
        "Al ser de código abierto, `numpy` posee una documentación muy amplia que es **SIEMPRE RECOMENDABLE** consultar."
      ]
    },
    {
      "cell_type": "markdown",
      "metadata": {
        "id": "nxe3KLUO9IwL"
      },
      "source": [
        "- [Documentacion NumPy](https://devdocs.io/numpy/)"
      ]
    },
    {
      "cell_type": "markdown",
      "metadata": {
        "id": "l1Ay3nSs9IwN"
      },
      "source": [
        "## Clase 4: Introduccion a NumPy"
      ]
    },
    {
      "cell_type": "markdown",
      "metadata": {
        "id": "X03mviQS9IyL"
      },
      "source": [
        "# Ejercicios\n",
        "\n",
        "1. Crear un arreglo de ceros de longitud 12\n",
        "2. Crear un arreglo de longitud 10 con ceros en todas sus posiciones y un 10 en la posición número 5\n",
        "3. Crear un arreglo que tenga los números del 10 al 49\n",
        "4. Crear una arreglo 2d de shape (3, 3) que tenga los números del 0 al 8\n",
        "5. Crear un arreglo de números aleatorios de longitud 100 y obtener su media y varianza\n",
        "6. Calcular la media de un arreglo usando np.sum\n",
        "7. Calcular la varianza de un arreglo usando np.sum y np.mean\n",
        "8. Crear un array de números aleatorios usando np.random.randn.\n"
      ]
    },
    {
      "cell_type": "code",
      "metadata": {
        "id": "G0NMKT609IyM",
        "colab": {
          "base_uri": "https://localhost:8080/"
        },
        "outputId": "74fff864-521f-4ac0-af30-c67817184607"
      },
      "source": [
        "nuevo_array_1 = np.zeros(12)\n",
        "print(nuevo_array_1)\n",
        "nuevo_array_2 = np.zeros(10)\n",
        "nuevo_array_2[4]=10\n",
        "print(nuevo_array_2)\n",
        "nuevo_array_3 = np.arange(10, 50, 1)\n",
        "print(nuevo_array_3)\n",
        "lista = [[0, 1, 2], [3, 4, 5],[6, 7, 8]]\n",
        "nuevo_array_4 = np.array(lista)\n",
        "print(nuevo_array_4)\n",
        "nuevo_array_5 = np.random.randn(100)\n",
        "print(nuevo_array_5)\n",
        "print(np.mean(nuevo_array_5))\n",
        "print(np.var(nuevo_array_5))\n",
        "nuevo_array_6 = np.sum(nuevo_array_3)/len(nuevo_array_3)\n",
        "print(nuevo_array_6)\n",
        "nuevo_array_7 = np.sum((abs(nuevo_array_3 - np.mean(nuevo_array_3))**2)/len(nuevo_array_3))\n",
        "print(nuevo_array_7)\n",
        "nuevo_array_8= np.random.rand(10)\n",
        "print(nuevo_array_8)\n",
        "\n",
        "\n",
        "\n",
        "\n",
        "\n",
        "\n",
        "\n"
      ],
      "execution_count": 66,
      "outputs": [
        {
          "output_type": "stream",
          "name": "stdout",
          "text": [
            "[0. 0. 0. 0. 0. 0. 0. 0. 0. 0. 0. 0.]\n",
            "[ 0.  0.  0.  0. 10.  0.  0.  0.  0.  0.]\n",
            "[10 11 12 13 14 15 16 17 18 19 20 21 22 23 24 25 26 27 28 29 30 31 32 33\n",
            " 34 35 36 37 38 39 40 41 42 43 44 45 46 47 48 49]\n",
            "[[0 1 2]\n",
            " [3 4 5]\n",
            " [6 7 8]]\n",
            "[ 1.66645089  0.78884769  0.90173361  0.49871973  1.67523192 -0.28505133\n",
            " -0.4847551   0.43079077  0.57737715  0.23935439  0.24716553 -0.67969782\n",
            "  0.67341793 -0.7800459  -2.09610903  1.72344457 -0.00508682 -2.25275592\n",
            " -1.93379814 -0.55632517 -0.77732447  0.31068473  0.37829098  0.93077174\n",
            "  1.36172154 -0.30465249 -0.19762089  0.96907675 -2.38432462  0.53959374\n",
            "  0.32876578  3.18300808  1.28776743  1.95730565 -0.53070506  0.54636811\n",
            "  0.94041104 -0.64579114  0.32000242 -0.32153131 -0.68018017  0.39282656\n",
            " -0.70005618 -0.60861469  0.20896531 -0.65885574 -0.48606612 -0.60545144\n",
            " -0.90140451  0.89555397  0.74544002  1.56935153  0.74760135  0.50795433\n",
            "  0.10372268 -1.20540667  0.47706199  0.66178187  1.04541923  0.90551928\n",
            " -0.65905239  0.10422302 -0.85258351 -1.53924949 -0.77750353 -0.4803178\n",
            "  0.57266657  0.24322777 -1.50796518  0.01513801 -0.58437682  1.9425306\n",
            " -0.97100829 -1.7797137   0.93352651  0.09584567  0.90115645 -0.29077955\n",
            " -1.13748146 -0.9570072  -0.49780784 -1.11038769 -0.50968467  0.1347874\n",
            "  1.27447279 -1.42719461  1.09351157 -0.03864719 -0.28289045 -0.17333618\n",
            "  0.46567027 -1.06833999 -0.32173562  1.31386537 -0.062778   -0.44599787\n",
            " -0.70125238  0.63345137  1.12331845  0.1611493 ]\n",
            "0.034873393267708976\n",
            "0.9813862483790666\n",
            "29.5\n",
            "133.25\n",
            "[0.37386315 0.5256912  0.09672788 0.89956034 0.18807169 0.91164488\n",
            " 0.59568364 0.16681076 0.75778458 0.58164507]\n"
          ]
        }
      ]
    }
  ]
}