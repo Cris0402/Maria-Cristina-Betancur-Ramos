{
  "nbformat": 4,
  "nbformat_minor": 0,
  "metadata": {
    "kernelspec": {
      "display_name": "Python 3",
      "language": "python",
      "name": "python3"
    },
    "language_info": {
      "codemirror_mode": {
        "name": "ipython",
        "version": 3
      },
      "file_extension": ".py",
      "mimetype": "text/x-python",
      "name": "python",
      "nbconvert_exporter": "python",
      "pygments_lexer": "ipython3",
      "version": "3.7.3"
    },
    "colab": {
      "provenance": [],
      "include_colab_link": true
    }
  },
  "cells": [
    {
      "cell_type": "markdown",
      "metadata": {
        "id": "view-in-github",
        "colab_type": "text"
      },
      "source": [
        "<a href=\"https://colab.research.google.com/github/Cris0402/Maria-Cristina-Betancur-Ramos/blob/main/Notebook_5_MARIA_CRISTINA_BETANCUR_RAMOS.ipynb\" target=\"_parent\"><img src=\"https://colab.research.google.com/assets/colab-badge.svg\" alt=\"Open In Colab\"/></a>"
      ]
    },
    {
      "cell_type": "markdown",
      "metadata": {
        "id": "Gp2WddtV9IwG"
      },
      "source": [
        "# Programa Ingenias+ Data Science"
      ]
    },
    {
      "cell_type": "markdown",
      "metadata": {
        "id": "H4M1yVbf9IwH"
      },
      "source": [
        "Como dijimos en clases anteriores, Python tiene implementadas muchas librerias para poder trabajar con datos. En la clase de hoy trabajaremos con una de ellas: `Numpy`."
      ]
    },
    {
      "cell_type": "markdown",
      "metadata": {
        "id": "GdTT8WeL9IwI"
      },
      "source": [
        "Antes de comenzar, vamos a hablar un poco de esta libreria o modulo.\n",
        "\n",
        "**Numpy** es una librería optimizada para realizar cálculos numéricos con vectores y matrices. A diferencia de otros lenguajes de programación, Python no posee en su estructura central la figura de matrices. Eso quiere decir que para poder trabajar con esta estructura de datos deberiamos trabajar con listas de listas. NumPy introduce el concepto de arrays o matrices."
      ]
    },
    {
      "cell_type": "markdown",
      "metadata": {
        "id": "qWkq3EHK9IwK"
      },
      "source": [
        "Al ser de código abierto, `numpy` posee una documentación muy amplia que es **SIEMPRE RECOMENDABLE** consultar."
      ]
    },
    {
      "cell_type": "markdown",
      "metadata": {
        "id": "nxe3KLUO9IwL"
      },
      "source": [
        "- [Documentacion NumPy](https://devdocs.io/numpy/)"
      ]
    },
    {
      "cell_type": "markdown",
      "metadata": {
        "id": "l1Ay3nSs9IwN"
      },
      "source": [
        "## Clase 4: Introduccion a NumPy"
      ]
    },
    {
      "cell_type": "markdown",
      "metadata": {
        "id": "X03mviQS9IyL"
      },
      "source": [
        "# Ejercicios\n",
        "\n",
        "1. Crear un arreglo de ceros de longitud 12\n",
        "2. Crear un arreglo de longitud 10 con ceros en todas sus posiciones y un 10 en la posición número 5\n",
        "3. Crear un arreglo que tenga los números del 10 al 49\n",
        "4. Crear una arreglo 2d de shape (3, 3) que tenga los números del 0 al 8\n",
        "5. Crear un arreglo de números aleatorios de longitud 100 y obtener su media y varianza\n",
        "6. Calcular la media de un arreglo usando np.sum\n",
        "7. Calcular la varianza de un arreglo usando np.sum y np.mean\n",
        "8. Crear un array de números aleatorios usando np.random.randn.\n"
      ]
    },
    {
      "cell_type": "markdown",
      "source": [
        "#1.-Crear un arreglo de ceros de longitud 12"
      ],
      "metadata": {
        "id": "kbVopy08Eq0N"
      }
    },
    {
      "cell_type": "code",
      "source": [
        "#importa numpy\n",
        "import numpy as np\n",
        "\n",
        "arreglo_ejercicio_1 = np.zeros(12)\n",
        "# Ver resultado\n",
        "print(arreglo_ejercicio_1)"
      ],
      "metadata": {
        "colab": {
          "base_uri": "https://localhost:8080/"
        },
        "id": "tYP9cIO2E1uR",
        "outputId": "f24bc32e-6080-454e-8bf2-d5c54265fece"
      },
      "execution_count": 8,
      "outputs": [
        {
          "output_type": "stream",
          "name": "stdout",
          "text": [
            "[0. 0. 0. 0. 0. 0. 0. 0. 0. 0. 0. 0.]\n"
          ]
        }
      ]
    },
    {
      "cell_type": "markdown",
      "source": [
        "**2.-Crear un arreglo de longitud 10 con ceros en todas sus posiciones y un 10 en la posición número 5**\n"
      ],
      "metadata": {
        "id": "jxYABBYTEjsQ"
      }
    },
    {
      "cell_type": "code",
      "source": [
        "#importa numpy\n",
        "import numpy as np\n",
        "\n",
        "arreglo_ejercicio_2 = np.zeros(10)\n",
        "arreglo_ejercicio_2[4]=10\n",
        "# Ver resultado\n",
        "print(arreglo_ejercicio_2)"
      ],
      "metadata": {
        "colab": {
          "base_uri": "https://localhost:8080/"
        },
        "id": "yjE7dCaCGDCo",
        "outputId": "29464730-8f0a-4e01-f378-cb6f41852a77"
      },
      "execution_count": 9,
      "outputs": [
        {
          "output_type": "stream",
          "name": "stdout",
          "text": [
            "[ 0.  0.  0.  0. 10.  0.  0.  0.  0.  0.]\n"
          ]
        }
      ]
    },
    {
      "cell_type": "markdown",
      "source": [
        "3.-Crear un arreglo que tenga los números del 10 al 49\n",
        "\n"
      ],
      "metadata": {
        "id": "1j_soASnG4-O"
      }
    },
    {
      "cell_type": "code",
      "source": [
        "#importa numpy\n",
        "import numpy as np\n",
        "\n",
        "arreglo_ejercicio_3 = np.arange(10, 50, 1)\n",
        "\n",
        "#Ver resultado\n",
        "print(arreglo_ejercicio_3)"
      ],
      "metadata": {
        "id": "KSrli-gPHj7V"
      },
      "execution_count": null,
      "outputs": []
    },
    {
      "cell_type": "markdown",
      "source": [
        "4.-Crear una arreglo 2d de shape (3, 3) que tenga los números del 0 al 8\n"
      ],
      "metadata": {
        "id": "Q2SE_hpTH3t4"
      }
    },
    {
      "cell_type": "code",
      "source": [
        "#importa numpy\n",
        "import numpy as np\n",
        "import array\n",
        "\n",
        "lista = [[0, 1, 2], [3, 4, 5],[6, 7, 8]]\n",
        "arreglo_ejercicio_4 = np.array(lista)\n",
        "\n",
        "#Ver resultado\n",
        "print(arreglo_ejercicio_4)"
      ],
      "metadata": {
        "colab": {
          "base_uri": "https://localhost:8080/"
        },
        "id": "J1aBRJwPH8lk",
        "outputId": "7cae2e15-c7d2-40b5-a4f8-f4fa3b4b5ea8"
      },
      "execution_count": 14,
      "outputs": [
        {
          "output_type": "stream",
          "name": "stdout",
          "text": [
            "[[0 1 2]\n",
            " [3 4 5]\n",
            " [6 7 8]]\n"
          ]
        }
      ]
    },
    {
      "cell_type": "code",
      "metadata": {
        "id": "G0NMKT609IyM"
      },
      "source": [
        "\n",
        "\n",
        "\n",
        "\n",
        "\n",
        "\n",
        "#5.-Crear un arreglo de números aleatorios de longitud 100 y obtener su media y varianza\n",
        "nuevo_array_5 = np.random.randn(100)\n",
        "print(nuevo_array_5)\n",
        "print(np.mean(nuevo_array_5))\n",
        "print(np.var(nuevo_array_5))\n",
        "#6.-Calcular la media de un arreglo usando np.sum\n",
        "nuevo_array_6 = np.sum(nuevo_array_3)/len(nuevo_array_3)\n",
        "print(nuevo_array_6)\n",
        "#7.-Calcular la varianza de un arreglo usando np.sum y np.mean\n",
        "nuevo_array_7 = np.sum((abs(nuevo_array_3 - np.mean(nuevo_array_3))**2)/len(nuevo_array_3))\n",
        "print(nuevo_array_7)\n",
        "#8.-Crear un array de números aleatorios usando np.random.randn\n",
        "nuevo_array_8= np.random.rand(10)\n",
        "print(nuevo_array_8)\n",
        "\n",
        "\n",
        "\n",
        "\n",
        "\n",
        "\n",
        "\n"
      ],
      "execution_count": null,
      "outputs": []
    }
  ]
}