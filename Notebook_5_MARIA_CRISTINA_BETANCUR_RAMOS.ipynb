{
  "nbformat": 4,
  "nbformat_minor": 0,
  "metadata": {
    "kernelspec": {
      "display_name": "Python 3",
      "language": "python",
      "name": "python3"
    },
    "language_info": {
      "codemirror_mode": {
        "name": "ipython",
        "version": 3
      },
      "file_extension": ".py",
      "mimetype": "text/x-python",
      "name": "python",
      "nbconvert_exporter": "python",
      "pygments_lexer": "ipython3",
      "version": "3.7.3"
    },
    "colab": {
      "provenance": [],
      "include_colab_link": true
    }
  },
  "cells": [
    {
      "cell_type": "markdown",
      "metadata": {
        "id": "view-in-github",
        "colab_type": "text"
      },
      "source": [
        "<a href=\"https://colab.research.google.com/github/Cris0402/Maria-Cristina-Betancur-Ramos/blob/main/Notebook_5_MARIA_CRISTINA_BETANCUR_RAMOS.ipynb\" target=\"_parent\"><img src=\"https://colab.research.google.com/assets/colab-badge.svg\" alt=\"Open In Colab\"/></a>"
      ]
    },
    {
      "cell_type": "markdown",
      "metadata": {
        "id": "Gp2WddtV9IwG"
      },
      "source": [
        "# Programa Ingenias+ Data Science"
      ]
    },
    {
      "cell_type": "markdown",
      "metadata": {
        "id": "H4M1yVbf9IwH"
      },
      "source": [
        "Como dijimos en clases anteriores, Python tiene implementadas muchas librerias para poder trabajar con datos. En la clase de hoy trabajaremos con una de ellas: `Numpy`."
      ]
    },
    {
      "cell_type": "markdown",
      "metadata": {
        "id": "GdTT8WeL9IwI"
      },
      "source": [
        "Antes de comenzar, vamos a hablar un poco de esta libreria o modulo.\n",
        "\n",
        "**Numpy** es una librería optimizada para realizar cálculos numéricos con vectores y matrices. A diferencia de otros lenguajes de programación, Python no posee en su estructura central la figura de matrices. Eso quiere decir que para poder trabajar con esta estructura de datos deberiamos trabajar con listas de listas. NumPy introduce el concepto de arrays o matrices."
      ]
    },
    {
      "cell_type": "markdown",
      "metadata": {
        "id": "qWkq3EHK9IwK"
      },
      "source": [
        "Al ser de código abierto, `numpy` posee una documentación muy amplia que es **SIEMPRE RECOMENDABLE** consultar."
      ]
    },
    {
      "cell_type": "markdown",
      "metadata": {
        "id": "nxe3KLUO9IwL"
      },
      "source": [
        "- [Documentacion NumPy](https://devdocs.io/numpy/)"
      ]
    },
    {
      "cell_type": "markdown",
      "metadata": {
        "id": "l1Ay3nSs9IwN"
      },
      "source": [
        "## Clase 4: Introduccion a NumPy"
      ]
    },
    {
      "cell_type": "markdown",
      "metadata": {
        "id": "X03mviQS9IyL"
      },
      "source": [
        "# Ejercicios\n",
        "\n",
        "1. Crear un arreglo de ceros de longitud 12\n",
        "2. Crear un arreglo de longitud 10 con ceros en todas sus posiciones y un 10 en la posición número 5\n",
        "3. Crear un arreglo que tenga los números del 10 al 49\n",
        "4. Crear una arreglo 2d de shape (3, 3) que tenga los números del 0 al 8\n",
        "5. Crear un arreglo de números aleatorios de longitud 100 y obtener su media y varianza\n",
        "6. Calcular la media de un arreglo usando np.sum\n",
        "7. Calcular la varianza de un arreglo usando np.sum y np.mean\n",
        "8. Crear un array de números aleatorios usando np.random.randn.\n"
      ]
    },
    {
      "cell_type": "markdown",
      "source": [
        "#1.-Crear un arreglo de ceros de longitud 12"
      ],
      "metadata": {
        "id": "kbVopy08Eq0N"
      }
    },
    {
      "cell_type": "code",
      "source": [
        "#importa numpy\n",
        "import numpy as np\n",
        "\n",
        "arreglo_ejercicio_1 = np.zeros(12)\n",
        "# Ver resultado\n",
        "print(arreglo_ejercicio_1)"
      ],
      "metadata": {
        "colab": {
          "base_uri": "https://localhost:8080/"
        },
        "id": "tYP9cIO2E1uR",
        "outputId": "f24bc32e-6080-454e-8bf2-d5c54265fece"
      },
      "execution_count": null,
      "outputs": [
        {
          "output_type": "stream",
          "name": "stdout",
          "text": [
            "[0. 0. 0. 0. 0. 0. 0. 0. 0. 0. 0. 0.]\n"
          ]
        }
      ]
    },
    {
      "cell_type": "markdown",
      "source": [
        "**2.-Crear un arreglo de longitud 10 con ceros en todas sus posiciones y un 10 en la posición número 5**\n"
      ],
      "metadata": {
        "id": "jxYABBYTEjsQ"
      }
    },
    {
      "cell_type": "code",
      "source": [
        "#importa numpy\n",
        "import numpy as np\n",
        "\n",
        "arreglo_ejercicio_2 = np.zeros(10)\n",
        "arreglo_ejercicio_2[4]=10\n",
        "# Ver resultado\n",
        "print(arreglo_ejercicio_2)"
      ],
      "metadata": {
        "colab": {
          "base_uri": "https://localhost:8080/"
        },
        "id": "yjE7dCaCGDCo",
        "outputId": "29464730-8f0a-4e01-f378-cb6f41852a77"
      },
      "execution_count": null,
      "outputs": [
        {
          "output_type": "stream",
          "name": "stdout",
          "text": [
            "[ 0.  0.  0.  0. 10.  0.  0.  0.  0.  0.]\n"
          ]
        }
      ]
    },
    {
      "cell_type": "markdown",
      "source": [
        "**3.-Crear un arreglo que tenga los números del 10 al 49**\n",
        "\n"
      ],
      "metadata": {
        "id": "1j_soASnG4-O"
      }
    },
    {
      "cell_type": "code",
      "source": [
        "#importa numpy\n",
        "import numpy as np\n",
        "\n",
        "arreglo_ejercicio_3 = np.arange(10, 50, 1)\n",
        "\n",
        "#Ver resultado\n",
        "print(arreglo_ejercicio_3)"
      ],
      "metadata": {
        "id": "KSrli-gPHj7V"
      },
      "execution_count": null,
      "outputs": []
    },
    {
      "cell_type": "markdown",
      "source": [
        "**4.-Crear una arreglo 2d de shape (3, 3) que tenga los números del 0 al 8**\n"
      ],
      "metadata": {
        "id": "Q2SE_hpTH3t4"
      }
    },
    {
      "cell_type": "code",
      "source": [
        "#importa numpy\n",
        "import numpy as np\n",
        "import array\n",
        "\n",
        "lista = [[0, 1, 2], [3, 4, 5],[6, 7, 8]]\n",
        "arreglo_ejercicio_4 = np.array(lista)\n",
        "\n",
        "#Ver resultado\n",
        "print(arreglo_ejercicio_4)"
      ],
      "metadata": {
        "colab": {
          "base_uri": "https://localhost:8080/"
        },
        "id": "J1aBRJwPH8lk",
        "outputId": "33cc4440-2622-40c6-de4e-d0a64d69fd63"
      },
      "execution_count": 1,
      "outputs": [
        {
          "output_type": "stream",
          "name": "stdout",
          "text": [
            "[[0 1 2]\n",
            " [3 4 5]\n",
            " [6 7 8]]\n"
          ]
        }
      ]
    },
    {
      "cell_type": "markdown",
      "source": [
        "**5.-Crear un arreglo de números aleatorios de longitud 100 y obtener su media y varianza**"
      ],
      "metadata": {
        "id": "fddnENClSdkN"
      }
    },
    {
      "cell_type": "code",
      "source": [
        "#importa numpy\n",
        "import numpy as np\n",
        "\n",
        "arreglo_ejercicio_5 = np.random.randn(100)\n",
        "media               = np.mean(arreglo_ejercicio_5)\n",
        "varianza            = np.var(arreglo_ejercicio_5)\n",
        "#Ver resultado\n",
        "print(\"Media=\", media, \"Varianza=\", varianza)\n"
      ],
      "metadata": {
        "colab": {
          "base_uri": "https://localhost:8080/"
        },
        "id": "NMFIt9uWSbBO",
        "outputId": "573bc17b-e89f-42b1-c220-9ee1a98af8d2"
      },
      "execution_count": 6,
      "outputs": [
        {
          "output_type": "stream",
          "name": "stdout",
          "text": [
            "Media= -0.01732270987723985 Varianza= 1.041370652856453\n"
          ]
        }
      ]
    },
    {
      "cell_type": "markdown",
      "source": [
        "**6.-Calcular la media de un arreglo usando np.sum**\n",
        "\n"
      ],
      "metadata": {
        "id": "JSpJJwgpUiH5"
      }
    },
    {
      "cell_type": "code",
      "source": [
        "#importa numpy\n",
        "import numpy as np\n",
        "\n",
        "arreglo_ejercicio_6 = np.arange(10, 50, 1)\n",
        "ejercicio_6 = np.sum(arreglo_ejercicio_6)/len(arreglo_ejercicio_6)\n",
        "\n",
        "#Ver resultado\n",
        "print(\"Media=\", ejercicio_6)"
      ],
      "metadata": {
        "colab": {
          "base_uri": "https://localhost:8080/"
        },
        "id": "OkIKBUrDUtNE",
        "outputId": "dc76b5e3-889a-4b6c-9c8a-3d2e15f1185d"
      },
      "execution_count": 8,
      "outputs": [
        {
          "output_type": "stream",
          "name": "stdout",
          "text": [
            "Media= 29.5\n"
          ]
        }
      ]
    },
    {
      "cell_type": "markdown",
      "source": [
        "**7.-Calcular la varianza de un arreglo usando np.sum y np.mean**"
      ],
      "metadata": {
        "id": "WY-lkviFVrgd"
      }
    },
    {
      "cell_type": "code",
      "source": [
        "#importa numpy\n",
        "import numpy as np\n",
        "\n",
        "arreglo_ejercicio_7 = np.arange(10, 50, 1)\n",
        "ejercicio_7 = np.sum((abs(arreglo_ejercicio_7 - np.mean(arreglo_ejercicio_7))**2)/len(arreglo_ejercicio_7))\n",
        "\n",
        "#Ver resultado\n",
        "print(\"Varianza=\",ejercicio_7)"
      ],
      "metadata": {
        "colab": {
          "base_uri": "https://localhost:8080/"
        },
        "id": "bG2EP9KgVy-d",
        "outputId": "4efd2aa0-adea-40a2-9847-334449ca14d1"
      },
      "execution_count": 9,
      "outputs": [
        {
          "output_type": "stream",
          "name": "stdout",
          "text": [
            "Varianza= 133.25\n"
          ]
        }
      ]
    },
    {
      "cell_type": "markdown",
      "source": [
        "**8.-Crear un array de números aleatorios usando np.random.randn.**"
      ],
      "metadata": {
        "id": "kgPYDrdtWPgt"
      }
    },
    {
      "cell_type": "code",
      "source": [
        "#importa numpy\n",
        "import numpy as np\n",
        "\n",
        "arreglo_ejercicio_8= np.random.rand(10)\n",
        "\n",
        "#Ver resultado\n",
        "print(arreglo_ejercicio_8)\n"
      ],
      "metadata": {
        "colab": {
          "base_uri": "https://localhost:8080/"
        },
        "id": "7LXY_ZfDWam1",
        "outputId": "7015d191-33d7-4a8c-d6ea-a183da9399c8"
      },
      "execution_count": 10,
      "outputs": [
        {
          "output_type": "stream",
          "name": "stdout",
          "text": [
            "[0.20958651 0.09732475 0.05438142 0.46521507 0.07629517 0.37083014\n",
            " 0.53419897 0.03367138 0.78582475 0.64729687]\n"
          ]
        }
      ]
    }
  ]
}